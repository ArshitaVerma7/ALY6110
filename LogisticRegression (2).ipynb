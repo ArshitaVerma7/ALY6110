{
  "nbformat": 4,
  "nbformat_minor": 0,
  "metadata": {
    "colab": {
      "provenance": []
    },
    "kernelspec": {
      "name": "python3",
      "display_name": "Python 3"
    },
    "language_info": {
      "name": "python"
    }
  },
  "cells": [
    {
      "cell_type": "code",
      "execution_count": 30,
      "metadata": {
        "colab": {
          "base_uri": "https://localhost:8080/"
        },
        "id": "3LqFyNEe914l",
        "outputId": "ba4d2810-920e-4f97-864e-c12e41deb00b"
      },
      "outputs": [
        {
          "output_type": "stream",
          "name": "stdout",
          "text": [
            "Looking in indexes: https://pypi.org/simple, https://us-python.pkg.dev/colab-wheels/public/simple/\n",
            "Requirement already satisfied: pyspark in /usr/local/lib/python3.8/dist-packages (3.3.1)\n",
            "Requirement already satisfied: py4j==0.10.9.5 in /usr/local/lib/python3.8/dist-packages (from pyspark) (0.10.9.5)\n"
          ]
        }
      ],
      "source": [
        "!pip install pyspark"
      ]
    },
    {
      "cell_type": "code",
      "source": [
        "import pyspark\n",
        "from pyspark.sql import SparkSession\n",
        "from pyspark.ml.regression import LinearRegression\n",
        "from pyspark.ml.feature import VectorAssembler\n",
        "from pyspark.ml.classification import LogisticRegression"
      ],
      "metadata": {
        "id": "tdKR6m_1-e9N"
      },
      "execution_count": 31,
      "outputs": []
    },
    {
      "cell_type": "code",
      "source": [
        "spark = SparkSession.builder.appName(\"Customers\").getOrCreate()"
      ],
      "metadata": {
        "id": "3sXDr7SI-wJk"
      },
      "execution_count": 32,
      "outputs": []
    },
    {
      "cell_type": "code",
      "source": [
        "path = \"Final Dataset (1).csv\"\n",
        "\n",
        "df = spark.read.option(\"header\",'True').option('delimiter', ',').csv(path)\n",
        "df.printSchema()"
      ],
      "metadata": {
        "colab": {
          "base_uri": "https://localhost:8080/"
        },
        "id": "vljWBNzH-_En",
        "outputId": "fc355ef1-a78e-4aa4-8a20-69b797fd5231"
      },
      "execution_count": 33,
      "outputs": [
        {
          "output_type": "stream",
          "name": "stdout",
          "text": [
            "root\n",
            " |-- group: string (nullable = true)\n",
            " |-- ID: string (nullable = true)\n",
            " |-- outcome: string (nullable = true)\n",
            " |-- age: string (nullable = true)\n",
            " |-- gendera: string (nullable = true)\n",
            " |-- BMI: string (nullable = true)\n",
            " |-- hypertensive: string (nullable = true)\n",
            " |-- atrialfibrillation: string (nullable = true)\n",
            " |-- CHD with no MI: string (nullable = true)\n",
            " |-- diabetes: string (nullable = true)\n",
            " |-- deficiencyanemias: string (nullable = true)\n",
            " |-- depression: string (nullable = true)\n",
            " |-- Hyperlipemia: string (nullable = true)\n",
            " |-- Renal failure: string (nullable = true)\n",
            " |-- COPD: string (nullable = true)\n",
            " |-- heart rate: string (nullable = true)\n",
            " |-- Systolic blood pressure: string (nullable = true)\n",
            " |-- Diastolic blood pressure: string (nullable = true)\n",
            " |-- Respiratory rate: string (nullable = true)\n",
            " |-- temperature: string (nullable = true)\n",
            " |-- SP O2: string (nullable = true)\n",
            " |-- Urine output: string (nullable = true)\n",
            " |-- hematocrit: string (nullable = true)\n",
            " |-- RBC: string (nullable = true)\n",
            " |-- MCH: string (nullable = true)\n",
            " |-- MCHC: string (nullable = true)\n",
            " |-- MCV: string (nullable = true)\n",
            " |-- RDW: string (nullable = true)\n",
            " |-- Leucocyte: string (nullable = true)\n",
            " |-- Platelets: string (nullable = true)\n",
            " |-- Neutrophils: string (nullable = true)\n",
            " |-- Basophils: string (nullable = true)\n",
            " |-- Lymphocyte: string (nullable = true)\n",
            " |-- PT: string (nullable = true)\n",
            " |-- INR: string (nullable = true)\n",
            " |-- NT-proBNP: string (nullable = true)\n",
            " |-- Creatine kinase: string (nullable = true)\n",
            " |-- Creatinine: string (nullable = true)\n",
            " |-- Urea nitrogen: string (nullable = true)\n",
            " |-- glucose: string (nullable = true)\n",
            " |-- Blood potassium: string (nullable = true)\n",
            " |-- Blood sodium: string (nullable = true)\n",
            " |-- Blood calcium: string (nullable = true)\n",
            " |-- Chloride: string (nullable = true)\n",
            " |-- Anion gap: string (nullable = true)\n",
            " |-- Magnesium ion: string (nullable = true)\n",
            " |-- PH: string (nullable = true)\n",
            " |-- Bicarbonate: string (nullable = true)\n",
            " |-- Lactic acid: string (nullable = true)\n",
            " |-- PCO2: string (nullable = true)\n",
            " |-- EF: string (nullable = true)\n",
            "\n"
          ]
        }
      ]
    },
    {
      "cell_type": "code",
      "source": [
        "df.show(5)"
      ],
      "metadata": {
        "colab": {
          "base_uri": "https://localhost:8080/"
        },
        "id": "p6JFsTu6D2Ke",
        "outputId": "37b1672f-1780-43fa-8b19-063a66e22228"
      },
      "execution_count": 34,
      "outputs": [
        {
          "output_type": "stream",
          "name": "stdout",
          "text": [
            "+-----+------+-------+---+-------+-----------+------------+------------------+--------------+--------+-----------------+----------+------------+-------------+----+-----------+-----------------------+------------------------+----------------+-----------+-----------+------------+-----------+-----------+-----------+-----------+------+-----------+-----------+---------+-----------+---------+----------+-----------+-----------+---------+---------------+-----------+-------------+-----------+---------------+------------+-------------+-----------+-----------+-------------+-----+-----------+-----------+----+---+\n",
            "|group|    ID|outcome|age|gendera|        BMI|hypertensive|atrialfibrillation|CHD with no MI|diabetes|deficiencyanemias|depression|Hyperlipemia|Renal failure|COPD| heart rate|Systolic blood pressure|Diastolic blood pressure|Respiratory rate|temperature|      SP O2|Urine output| hematocrit|        RBC|        MCH|       MCHC|   MCV|        RDW|  Leucocyte|Platelets|Neutrophils|Basophils|Lymphocyte|         PT|        INR|NT-proBNP|Creatine kinase| Creatinine|Urea nitrogen|    glucose|Blood potassium|Blood sodium|Blood calcium|   Chloride|  Anion gap|Magnesium ion|   PH|Bicarbonate|Lactic acid|PCO2| EF|\n",
            "+-----+------+-------+---+-------+-----------+------------+------------------+--------------+--------+-----------------+----------+------------+-------------+----+-----------+-----------------------+------------------------+----------------+-----------+-----------+------------+-----------+-----------+-----------+-----------+------+-----------+-----------+---------+-----------+---------+----------+-----------+-----------+---------+---------------+-----------+-------------+-----------+---------------+------------+-------------+-----------+-----------+-------------+-----+-----------+-----------+----+---+\n",
            "|    1|125047|      0| 72|      1|37.58817943|           0|                 0|             0|       1|                1|         0|           1|            1|   0|68.83783784|            155.8666667|             68.33333333|     16.62162162|36.71428571|98.39473684|        2155|26.27272727|       2.96|      28.25|      31.52|  89.9|      16.22|       7.65|    305.1|      74.65|      0.4|      13.3|       10.6|          1|     1956|            148|1.958333333|           50|114.6363636|    4.816666667|      138.75|  7.463636364|109.1666667|13.16666667|  2.618181818| 7.23|21.16666667|        0.5|  40| 55|\n",
            "|    1|139812|      0| 75|      2|         NA|           0|                 0|             0|       0|                1|         0|           0|            0|   1|101.3703704|                    140|                      65|     20.85185185|36.68253968|96.92307692|        1425|      30.78|      3.138|      31.06|      31.66|  98.2|      14.26|      12.74|    246.4|         NA|       NA|        NA|         NA|         NA|     2384|           60.6|1.122222222|  20.33333333|      147.5|           4.45| 138.8888889|       8.1625|98.44444444|11.44444444|       1.8875|7.225|33.44444444|        0.5|  78| 55|\n",
            "|    1|109787|      0| 83|      2|26.57263379|           0|                 0|             0|       0|                1|         0|           0|            1|   0|72.31818182|            135.3333333|                  61.375|           23.64| 36.4537037|95.29166667|        2425|       27.7|       2.62|      34.32|       31.3| 109.8|      23.82|       5.48|    204.2|       68.1|     0.55|      24.5|     11.275|       0.95|     4081|             16|1.871428571|  33.85714286|        149|          5.825| 140.7142857|  8.266666667|105.8571429|         10|  2.157142857|7.268|30.57142857|        0.5|71.5| 35|\n",
            "|    1|130587|      0| 43|      2|83.26462934|           0|                 0|             0|       0|                0|         0|           0|            0|   0|       94.5|                  126.4|                    73.2|     21.85714286|36.28703704|93.84615385|        8760|    36.6375|     4.2775|    26.0625|    30.4125|85.625|    17.0375|      8.225|  216.375|       81.8|     0.15|      14.5|27.06666667|2.666666667|      668|             85|0.585714286|  15.28571429|     128.25|    4.386666667|       138.5|  9.476923077|92.07142857|12.35714286|  1.942857143| 7.37|38.57142857|        0.6|  75| 55|\n",
            "|    1|138290|      0| 75|      2|31.82484194|           1|                 0|             0|       0|                1|         0|           0|            1|   1|      67.92|                 156.56|                   58.12|           21.36|36.76190476|      99.28|        4455|29.93333333|3.286666667|30.66666667|33.66666667|    91|16.26666667|8.833333333|      251|         NA|       NA|        NA|         NA|         NA|    30802|    111.6666667|       1.95|           43|     145.75|    4.783333333| 136.6666667|  8.733333333|      104.5|15.16666667|         1.65| 7.25|         22|        0.6|  50| 55|\n",
            "+-----+------+-------+---+-------+-----------+------------+------------------+--------------+--------+-----------------+----------+------------+-------------+----+-----------+-----------------------+------------------------+----------------+-----------+-----------+------------+-----------+-----------+-----------+-----------+------+-----------+-----------+---------+-----------+---------+----------+-----------+-----------+---------+---------------+-----------+-------------+-----------+---------------+------------+-------------+-----------+-----------+-------------+-----+-----------+-----------+----+---+\n",
            "only showing top 5 rows\n",
            "\n"
          ]
        }
      ]
    },
    {
      "cell_type": "code",
      "source": [
        "##subsetting data frame\n",
        "df1 = df.select(df['Renal failure'],df['Systolic blood pressure'],df['Blood potassium'],df['heart rate'],df['hematocrit'],df['Urine output'],df['Urea nitrogen'],df['Creatinine'],df['hypertensive'],df['diabetes'],df['deficiencyanemias'],df['Lactic acid'],df['EF'])\n",
        "                                            "
      ],
      "metadata": {
        "id": "DUCHKbwINQwG"
      },
      "execution_count": 35,
      "outputs": []
    },
    {
      "cell_type": "code",
      "source": [
        "from pyspark.sql.types import IntegerType, FloatType, StringType\n",
        "df = df.withColumn(\"Renal failure\", df[\"Renal failure\"].cast(IntegerType()))\\\n",
        ".withColumn(\"Systolic blood pressure\", df[\"Systolic blood pressure\"].cast(FloatType()))\\\n",
        ".withColumn(\"Blood potassium\", df[\"Blood potassium\"].cast(FloatType()))\\\n",
        ".withColumn(\"heart rate\", df[\"heart rate\"].cast(FloatType()))\\\n",
        ".withColumn(\"hematocrit\", df[\"hematocrit\"].cast(FloatType()))\\\n",
        ".withColumn(\"Urine output\", df[\"Urine output\"].cast(IntegerType()))\\\n",
        ".withColumn(\"Urea nitrogen\", df[\"Urea nitrogen\"].cast(FloatType()))\\\n",
        ".withColumn(\"Creatinine\", df[\"Creatinine\"].cast(FloatType()))\\\n",
        ".withColumn(\"hypertensive\", df[\"hypertensive\"].cast(IntegerType()))\\\n",
        ".withColumn(\"diabetes\", df[\"diabetes\"].cast(IntegerType()))\\\n",
        ".withColumn(\"deficiencyanemias\", df[\"deficiencyanemias\"].cast(IntegerType()))\\\n",
        ".withColumn(\"Lactic acid\", df[\"Lactic acid\"].cast(FloatType()))\\\n",
        ".withColumn(\"EF\", df[\"EF\"].cast(IntegerType()))"
      ],
      "metadata": {
        "id": "67-AhRJLE-tl"
      },
      "execution_count": 36,
      "outputs": []
    },
    {
      "cell_type": "code",
      "source": [
        "from pyspark.ml.feature import Imputer\n",
        "\n",
        "imputer = Imputer(\n",
        "    inputCols=['Systolic blood pressure','Blood potassium','heart rate','hematocrit','Urine output','Urea nitrogen','Creatinine','hypertensive','diabetes','deficiencyanemias','Lactic acid','EF'], \n",
        "    outputCols=[\"{}\".format(c) for c in ['Systolic blood pressure','Blood potassium','heart rate','hematocrit','Urine output','Urea nitrogen','Creatinine','hypertensive','diabetes','deficiencyanemias','Lactic acid','EF']]\n",
        ")\n",
        "df= imputer.fit(df).transform(df)\n"
      ],
      "metadata": {
        "id": "rCk5uMh7KU1n"
      },
      "execution_count": 37,
      "outputs": []
    },
    {
      "cell_type": "code",
      "source": [
        "featureassembler = VectorAssembler(inputCols = ['Systolic blood pressure','Blood potassium','heart rate','hematocrit','Urine output','Urea nitrogen','Creatinine','hypertensive','diabetes','deficiencyanemias','Lactic acid','EF'], outputCol = \"features\")"
      ],
      "metadata": {
        "id": "U2zk0ZUn_QMr"
      },
      "execution_count": 38,
      "outputs": []
    },
    {
      "cell_type": "code",
      "source": [
        "output = featureassembler.transform(df)\n",
        "output.select(\"features\").show()"
      ],
      "metadata": {
        "colab": {
          "base_uri": "https://localhost:8080/"
        },
        "id": "gYxrRy_YAPGx",
        "outputId": "f9c0df74-23bd-41d1-e3d1-1fb958580a3d"
      },
      "execution_count": 39,
      "outputs": [
        {
          "output_type": "stream",
          "name": "stdout",
          "text": [
            "+--------------------+\n",
            "|            features|\n",
            "+--------------------+\n",
            "|[155.866668701171...|\n",
            "|[140.0,4.44999980...|\n",
            "|[135.333328247070...|\n",
            "|[126.400001525878...|\n",
            "|[156.559997558593...|\n",
            "|[118.099998474121...|\n",
            "|[106.565216064453...|\n",
            "|[141.130432128906...|\n",
            "|[98.4347839355468...|\n",
            "|[122.0,3.86999988...|\n",
            "|[149.035720825195...|\n",
            "|[103.260871887207...|\n",
            "|[126.903228759765...|\n",
            "|[112.142860412597...|\n",
            "|[107.360000610351...|\n",
            "|[159.695648193359...|\n",
            "|[157.289474487304...|\n",
            "|[113.279998779296...|\n",
            "|[162.240005493164...|\n",
            "|[112.416664123535...|\n",
            "+--------------------+\n",
            "only showing top 20 rows\n",
            "\n"
          ]
        }
      ]
    },
    {
      "cell_type": "code",
      "source": [
        "finalised_data = output.select(\"features\", \"Renal failure\")"
      ],
      "metadata": {
        "id": "4qgUCAubGrcg"
      },
      "execution_count": 40,
      "outputs": []
    },
    {
      "cell_type": "code",
      "source": [
        "finalised_data = output.select('features', 'Renal failure')\n",
        "finalised_data.show()"
      ],
      "metadata": {
        "colab": {
          "base_uri": "https://localhost:8080/"
        },
        "id": "bB4Dogp4HVdD",
        "outputId": "642ddfa6-3557-4e3d-81d4-e4ac7b7064d1"
      },
      "execution_count": 72,
      "outputs": [
        {
          "output_type": "stream",
          "name": "stdout",
          "text": [
            "+--------------------+-------------+\n",
            "|            features|Renal failure|\n",
            "+--------------------+-------------+\n",
            "|[155.866668701171...|            1|\n",
            "|[140.0,4.44999980...|            0|\n",
            "|[135.333328247070...|            1|\n",
            "|[126.400001525878...|            0|\n",
            "|[156.559997558593...|            1|\n",
            "|[118.099998474121...|            1|\n",
            "|[106.565216064453...|            1|\n",
            "|[141.130432128906...|            0|\n",
            "|[98.4347839355468...|            1|\n",
            "|[122.0,3.86999988...|            0|\n",
            "|[149.035720825195...|            0|\n",
            "|[103.260871887207...|            0|\n",
            "|[126.903228759765...|            0|\n",
            "|[112.142860412597...|            1|\n",
            "|[107.360000610351...|            0|\n",
            "|[159.695648193359...|            1|\n",
            "|[157.289474487304...|            1|\n",
            "|[113.279998779296...|            1|\n",
            "|[162.240005493164...|            0|\n",
            "|[112.416664123535...|            1|\n",
            "+--------------------+-------------+\n",
            "only showing top 20 rows\n",
            "\n"
          ]
        }
      ]
    },
    {
      "cell_type": "code",
      "source": [
        "finalised_data = finalised_data.withColumnRenamed(\"Renal failure\",\"label\")\n",
        "train, test = finalised_data.randomSplit([0.7, 0.3])"
      ],
      "metadata": {
        "id": "HRMOpslEHiU1"
      },
      "execution_count": 102,
      "outputs": []
    },
    {
      "cell_type": "code",
      "source": [
        "test.show(2)"
      ],
      "metadata": {
        "id": "v1BUMiJjH5lb",
        "outputId": "1713fbe4-5d26-4cac-91fe-6c6deec09589",
        "colab": {
          "base_uri": "https://localhost:8080/"
        }
      },
      "execution_count": 103,
      "outputs": [
        {
          "output_type": "stream",
          "name": "stdout",
          "text": [
            "+--------------------+-----+\n",
            "|            features|label|\n",
            "+--------------------+-----+\n",
            "|[79.2307662963867...|    1|\n",
            "|[85.28125,4.01999...|    0|\n",
            "+--------------------+-----+\n",
            "only showing top 2 rows\n",
            "\n"
          ]
        }
      ]
    },
    {
      "cell_type": "code",
      "source": [
        "from pyspark.ml import Pipeline\n",
        "from pyspark.ml.classification import LogisticRegression\n",
        "from pyspark.ml.evaluation import BinaryClassificationEvaluator\n",
        "from pyspark.ml.tuning import CrossValidator, ParamGridBuilder, TrainValidationSplit\n",
        "logit = LogisticRegression(maxIter=10)\n",
        "pipeline = Pipeline(stages=[logit])\n",
        "paramGrid = ParamGridBuilder() \\\n",
        "    .addGrid(logit.regParam, [0, 0.01, 0.05, 0.1, 0.5, 1]) \\\n",
        "    .addGrid(logit.elasticNetParam, [0.0, 0.1, 0.5, 0.8, 1]) \\\n",
        "    .build()\n",
        "evaluator = BinaryClassificationEvaluator(metricName = 'areaUnderPR')\n",
        "val = TrainValidationSplit(\n",
        "            estimator=pipeline,\n",
        "            estimatorParamMaps=paramGrid,\n",
        "            evaluator=evaluator,\n",
        "            # 80% of the data will be used for training, 20% for validation.\n",
        "            trainRatio=0.8)\n",
        "# crossval = CrossValidator(estimator=pipeline,\n",
        "#                           estimatorParamMaps=paramGrid,\n",
        "#                           evaluator=evaluator,\n",
        "#                           numFolds=5)\n",
        "\n",
        "tuned_model = val.fit(train)\n",
        "bestModel  = tuned_model.bestModel"
      ],
      "metadata": {
        "id": "218EnTb8G-_R"
      },
      "execution_count": 104,
      "outputs": []
    },
    {
      "cell_type": "code",
      "source": [
        "def evaluate(model, df_train, df_test):\n",
        "    train_pred = model.transform(df_train)\n",
        "    train_acc = evaluator.evaluate(train_pred)\n",
        "    \n",
        "    test_pred = model.transform(df_test)\n",
        "    test_acc = evaluator.evaluate(test_pred)\n",
        "    \n",
        "    print('train_acc: {}, test_acc: {}'.format(train_acc, test_acc))\n",
        "    \n",
        "    return train_pred, test_pred"
      ],
      "metadata": {
        "id": "wjapaENROMkf"
      },
      "execution_count": 88,
      "outputs": []
    },
    {
      "cell_type": "code",
      "source": [
        "train_pred, test_pred = evaluate(tuned_model, train, test)"
      ],
      "metadata": {
        "id": "zyRPmQULOh9W",
        "outputId": "91c92c59-d9bf-41a3-aa9c-4d3d81e8b074",
        "colab": {
          "base_uri": "https://localhost:8080/"
        }
      },
      "execution_count": 107,
      "outputs": [
        {
          "output_type": "stream",
          "name": "stdout",
          "text": [
            "train_acc: 0.7865729325487624, test_acc: 0.7593307274862472\n"
          ]
        }
      ]
    },
    {
      "cell_type": "code",
      "source": [
        "\n",
        "\n",
        "finalPredictionstrain = tuned_model.transform(test)\n",
        "evaluator.evaluate(finalPredictionstrain)"
      ],
      "metadata": {
        "id": "ex2z-9p9NOqE",
        "outputId": "8728de21-d6b2-465a-edbf-c42005af6cf7",
        "colab": {
          "base_uri": "https://localhost:8080/"
        }
      },
      "execution_count": 106,
      "outputs": [
        {
          "output_type": "execute_result",
          "data": {
            "text/plain": [
              "0.7593307274862472"
            ]
          },
          "metadata": {},
          "execution_count": 106
        }
      ]
    },
    {
      "cell_type": "code",
      "source": [
        "%matplotlib inline\n",
        "import pandas as pd\n",
        "import numpy as np\n",
        "import matplotlib.pyplot as plt\n",
        "import seaborn as sns\n",
        "\n",
        "plt.style.use('ggplot')\n",
        "\n",
        "from sklearn.metrics import confusion_matrix\n",
        "from sklearn import metrics\n",
        "from sklearn.metrics import classification_report\n",
        "\n",
        "class Util:\n",
        "        \n",
        "    def report_classification(model, df_train, df_test, X_features, y_feature):\n",
        "        \n",
        "        classes_train = np.unique(df_train[y_feature].values).tolist()\n",
        "        classes_test = np.unique(df_test[y_feature].values).tolist()\n",
        "        \n",
        "        assert (classes_train == classes_test)\n",
        "        \n",
        "        classes = classes_train # The order of class is important!\n",
        "        \n",
        "        X_train = df_train[X_features].values.tolist()\n",
        "        X_test = df_test[X_features].values.tolist()\n",
        "        \n",
        "        y_train = df_train[y_feature].values.tolist()\n",
        "        y_test = df_test[y_feature].values.tolist()\n",
        "        \n",
        "        y_train_pred = model.predict(X_train)\n",
        "        y_test_pred = model.predict(X_test)\n",
        "\n",
        "        report_cm(y_train, y_test, y_train_pred, y_test_pred, classes)\n",
        "        \n",
        "    def report_cm(y_train, y_test, y_train_pred, y_test_pred, classes):\n",
        "        figure, axes = plt.subplots(1, 2, figsize=(10,5))\n",
        "\n",
        "        cm_test = confusion_matrix(y_test, y_test_pred)\n",
        "        df_cm_test = pd.DataFrame(cm_test, index = classes, columns = classes)\n",
        "        ax = sns.heatmap(df_cm_test, annot=True, ax = axes[0], square= True)\n",
        "        ax.set_title('Test CM')\n",
        "\n",
        "        cm_train = confusion_matrix(y_train, y_train_pred)\n",
        "        df_cm_train = pd.DataFrame(cm_train, index = classes, columns = classes)\n",
        "        ax = sns.heatmap(df_cm_train, annot=True, ax = axes[1], square= True)\n",
        "        ax.set_title('Train CM')\n",
        "\n",
        "        print('-' * 20 + 'Testing Performance' + '-' * 20)\n",
        "        print(classification_report(y_test, y_test_pred, target_names = classes))\n",
        "        print('acc: ', metrics.accuracy_score(y_test, y_test_pred))\n",
        "\n",
        "        print('-' * 20 + 'Training Performance' + '-' * 20)\n",
        "        print(classification_report(y_train, y_train_pred, target_names = classes))\n",
        "        print('acc: ', metrics.accuracy_score(y_train, y_train_pred))\n"
      ],
      "metadata": {
        "id": "bAfeIOk9QkI9"
      },
      "execution_count": 108,
      "outputs": []
    },
    {
      "cell_type": "code",
      "source": [
        "y_train = train_pred.select('label').toPandas().apply(lambda x : x[0], 1).values.tolist()\n",
        "y_train_pred = train_pred.select('prediction').toPandas().apply(lambda x : x[0], 1).values.tolist()\n",
        "\n",
        "y_test = test_pred.select('label').toPandas().apply(lambda x : x[0], 1).values.tolist()\n",
        "y_train_test = test_pred.select('prediction').toPandas().apply(lambda x : x[0], 1).values.tolist()\n",
        "\n",
        "Util.report_cm(y_train, y_test, y_train_pred, y_train_test, ['0', '1'])"
      ],
      "metadata": {
        "id": "Ag4N42ogQoGz",
        "outputId": "6ef5823a-f559-47c2-a7a2-a7b01687d30d",
        "colab": {
          "base_uri": "https://localhost:8080/",
          "height": 698
        }
      },
      "execution_count": 109,
      "outputs": [
        {
          "output_type": "stream",
          "name": "stdout",
          "text": [
            "--------------------Testing Performance--------------------\n",
            "              precision    recall  f1-score   support\n",
            "\n",
            "           0       0.75      0.89      0.82       214\n",
            "           1       0.79      0.58      0.66       146\n",
            "\n",
            "    accuracy                           0.76       360\n",
            "   macro avg       0.77      0.73      0.74       360\n",
            "weighted avg       0.77      0.76      0.76       360\n",
            "\n",
            "acc:  0.7638888888888888\n",
            "--------------------Training Performance--------------------\n",
            "              precision    recall  f1-score   support\n",
            "\n",
            "           0       0.82      0.91      0.86       533\n",
            "           1       0.79      0.63      0.70       284\n",
            "\n",
            "    accuracy                           0.81       817\n",
            "   macro avg       0.80      0.77      0.78       817\n",
            "weighted avg       0.81      0.81      0.81       817\n",
            "\n",
            "acc:  0.8115055079559363\n"
          ]
        },
        {
          "output_type": "display_data",
          "data": {
            "text/plain": [
              "<Figure size 720x360 with 4 Axes>"
            ],
            "image/png": "[encoded data removed]"
          },
          "metadata": {}
        }
      ]
    },
    {
      "cell_type": "code",
      "source": [
        "selected = train_pred.select(\"label\", \"prediction\", \"probability\")\n",
        "display(selected.show(10))"
      ],
      "metadata": {
        "id": "1PUWlOzLQygi",
        "outputId": "131b8e3f-6faa-45e9-9192-1ab6287dbb7d",
        "colab": {
          "base_uri": "https://localhost:8080/",
          "height": 319
        }
      },
      "execution_count": 110,
      "outputs": [
        {
          "output_type": "stream",
          "name": "stdout",
          "text": [
            "+-----+----------+--------------------+\n",
            "|label|prediction|         probability|\n",
            "+-----+----------+--------------------+\n",
            "|    1|       1.0|[0.10974902548966...|\n",
            "|    1|       0.0|[0.66600177192985...|\n",
            "|    0|       0.0|[0.72323912980769...|\n",
            "|    0|       0.0|[0.79467295805146...|\n",
            "|    0|       0.0|[0.80790700279544...|\n",
            "|    0|       0.0|[0.98762484109529...|\n",
            "|    1|       0.0|[0.50767784979628...|\n",
            "|    0|       0.0|[0.80069211803560...|\n",
            "|    1|       1.0|[0.00234159645641...|\n",
            "|    0|       0.0|[0.92521701196249...|\n",
            "+-----+----------+--------------------+\n",
            "only showing top 10 rows\n",
            "\n"
          ]
        },
        {
          "output_type": "display_data",
          "data": {
            "text/plain": [
              "None"
            ]
          },
          "metadata": {}
        }
      ]
    },
    {
      "cell_type": "markdown",
      "source": [
        "-----------------------END-----------------------------\n"
      ],
      "metadata": {
        "id": "UoKmKYS_RDY2"
      }
    },
    {
      "cell_type": "code",
      "source": [
        "df=lrn_summary.predictions.toPandas()"
      ],
      "metadata": {
        "id": "YrnuvEk6VddV"
      },
      "execution_count": 45,
      "outputs": []
    },
    {
      "cell_type": "code",
      "source": [
        "df.columns"
      ],
      "metadata": {
        "colab": {
          "base_uri": "https://localhost:8080/"
        },
        "id": "J92HnVa0WPaX",
        "outputId": "a70c06c8-5478-4aed-fdae-3f2c8323eb27"
      },
      "execution_count": 46,
      "outputs": [
        {
          "output_type": "execute_result",
          "data": {
            "text/plain": [
              "Index(['features', 'Renal failure', 'rawPrediction', 'probability',\n",
              "       'prediction'],\n",
              "      dtype='object')"
            ]
          },
          "metadata": {},
          "execution_count": 46
        }
      ]
    },
    {
      "cell_type": "code",
      "source": [
        "df.head()"
      ],
      "metadata": {
        "colab": {
          "base_uri": "https://localhost:8080/",
          "height": 354
        },
        "id": "bctspsLwWWu8",
        "outputId": "e385cb16-0f7e-44fd-cda9-1c6876118ce7"
      },
      "execution_count": 47,
      "outputs": [
        {
          "output_type": "execute_result",
          "data": {
            "text/plain": [
              "                                            features  Renal failure  \\\n",
              "0  [75.0, 4.699999809265137, 85.82142639160156, 2...            1.0   \n",
              "1  [79.23076629638672, 4.1875, 129.1750030517578,...            1.0   \n",
              "2  [82.45454406738281, 4.375, 90.13043212890625, ...            0.0   \n",
              "3  [85.05882263183594, 3.950000047683716, 69.6111...            0.0   \n",
              "4  [85.28125, 4.019999980926514, 109.40625, 34.66...            0.0   \n",
              "\n",
              "                               rawPrediction  \\\n",
              "0  [-1.4853910227031388, 1.4853910227031388]   \n",
              "1  [-1.4996928121281785, 1.4996928121281785]   \n",
              "2  [1.3704785980307417, -1.3704785980307417]   \n",
              "3  [1.7451343116585052, -1.7451343116585052]   \n",
              "4  [0.4684579962142361, -0.4684579962142361]   \n",
              "\n",
              "                                 probability  prediction  \n",
              "0   [0.18461451770921597, 0.815385482290784]         1.0  \n",
              "1   [0.1824713442572126, 0.8175286557427874]         1.0  \n",
              "2  [0.7974574672756987, 0.20254253272430134]         0.0  \n",
              "3  [0.8513380449137233, 0.14866195508627666]         0.0  \n",
              "4   [0.6150187198995126, 0.3849812801004874]         0.0  "
            ],
            "text/html": [
              "\n",
              "  <div id=\"df-aeaa300f-efc2-4540-908c-3c7886fb1f9c\">\n",
              "    <div class=\"colab-df-container\">\n",
              "      <div>\n",
              "<style scoped>\n",
              "    .dataframe tbody tr th:only-of-type {\n",
              "        vertical-align: middle;\n",
              "    }\n",
              "\n",
              "    .dataframe tbody tr th {\n",
              "        vertical-align: top;\n",
              "    }\n",
              "\n",
              "    .dataframe thead th {\n",
              "        text-align: right;\n",
              "    }\n",
              "</style>\n",
              "<table border=\"1\" class=\"dataframe\">\n",
              "  <thead>\n",
              "    <tr style=\"text-align: right;\">\n",
              "      <th></th>\n",
              "      <th>features</th>\n",
              "      <th>Renal failure</th>\n",
              "      <th>rawPrediction</th>\n",
              "      <th>probability</th>\n",
              "      <th>prediction</th>\n",
              "    </tr>\n",
              "  </thead>\n",
              "  <tbody>\n",
              "    <tr>\n",
              "      <th>0</th>\n",
              "      <td>[75.0, 4.699999809265137, 85.82142639160156, 2...</td>\n",
              "      <td>1.0</td>\n",
              "      <td>[-1.4853910227031388, 1.4853910227031388]</td>\n",
              "      <td>[0.18461451770921597, 0.815385482290784]</td>\n",
              "      <td>1.0</td>\n",
              "    </tr>\n",
              "    <tr>\n",
              "      <th>1</th>\n",
              "      <td>[79.23076629638672, 4.1875, 129.1750030517578,...</td>\n",
              "      <td>1.0</td>\n",
              "      <td>[-1.4996928121281785, 1.4996928121281785]</td>\n",
              "      <td>[0.1824713442572126, 0.8175286557427874]</td>\n",
              "      <td>1.0</td>\n",
              "    </tr>\n",
              "    <tr>\n",
              "      <th>2</th>\n",
              "      <td>[82.45454406738281, 4.375, 90.13043212890625, ...</td>\n",
              "      <td>0.0</td>\n",
              "      <td>[1.3704785980307417, -1.3704785980307417]</td>\n",
              "      <td>[0.7974574672756987, 0.20254253272430134]</td>\n",
              "      <td>0.0</td>\n",
              "    </tr>\n",
              "    <tr>\n",
              "      <th>3</th>\n",
              "      <td>[85.05882263183594, 3.950000047683716, 69.6111...</td>\n",
              "      <td>0.0</td>\n",
              "      <td>[1.7451343116585052, -1.7451343116585052]</td>\n",
              "      <td>[0.8513380449137233, 0.14866195508627666]</td>\n",
              "      <td>0.0</td>\n",
              "    </tr>\n",
              "    <tr>\n",
              "      <th>4</th>\n",
              "      <td>[85.28125, 4.019999980926514, 109.40625, 34.66...</td>\n",
              "      <td>0.0</td>\n",
              "      <td>[0.4684579962142361, -0.4684579962142361]</td>\n",
              "      <td>[0.6150187198995126, 0.3849812801004874]</td>\n",
              "      <td>0.0</td>\n",
              "    </tr>\n",
              "  </tbody>\n",
              "</table>\n",
              "</div>\n",
              "      <button class=\"colab-df-convert\" onclick=\"convertToInteractive('df-aeaa300f-efc2-4540-908c-3c7886fb1f9c')\"\n",
              "              title=\"Convert this dataframe to an interactive table.\"\n",
              "              style=\"display:none;\">\n",
              "        \n",
              "  <svg xmlns=\"http://www.w3.org/2000/svg\" height=\"24px\"viewBox=\"0 0 24 24\"\n",
              "       width=\"24px\">\n",
              "    <path d=\"M0 0h24v24H0V0z\" fill=\"none\"/>\n",
              "    <path d=\"M18.56 5.44l.94 2.06.94-2.06 2.06-.94-2.06-.94-.94-2.06-.94 2.06-2.06.94zm-11 1L8.5 8.5l.94-2.06 2.06-.94-2.06-.94L8.5 2.5l-.94 2.06-2.06.94zm10 10l.94 2.06.94-2.06 2.06-.94-2.06-.94-.94-2.06-.94 2.06-2.06.94z\"/><path d=\"M17.41 7.96l-1.37-1.37c-.4-.4-.92-.59-1.43-.59-.52 0-1.04.2-1.43.59L10.3 9.45l-7.72 7.72c-.78.78-.78 2.05 0 2.83L4 21.41c.39.39.9.59 1.41.59.51 0 1.02-.2 1.41-.59l7.78-7.78 2.81-2.81c.8-.78.8-2.07 0-2.86zM5.41 20L4 18.59l7.72-7.72 1.47 1.35L5.41 20z\"/>\n",
              "  </svg>\n",
              "      </button>\n",
              "      \n",
              "  <style>\n",
              "    .colab-df-container {\n",
              "      display:flex;\n",
              "      flex-wrap:wrap;\n",
              "      gap: 12px;\n",
              "    }\n",
              "\n",
              "    .colab-df-convert {\n",
              "      background-color: #E8F0FE;\n",
              "      border: none;\n",
              "      border-radius: 50%;\n",
              "      cursor: pointer;\n",
              "      display: none;\n",
              "      fill: #1967D2;\n",
              "      height: 32px;\n",
              "      padding: 0 0 0 0;\n",
              "      width: 32px;\n",
              "    }\n",
              "\n",
              "    .colab-df-convert:hover {\n",
              "      background-color: #E2EBFA;\n",
              "      box-shadow: 0px 1px 2px rgba(60, 64, 67, 0.3), 0px 1px 3px 1px rgba(60, 64, 67, 0.15);\n",
              "      fill: #174EA6;\n",
              "    }\n",
              "\n",
              "    [theme=dark] .colab-df-convert {\n",
              "      background-color: #3B4455;\n",
              "      fill: #D2E3FC;\n",
              "    }\n",
              "\n",
              "    [theme=dark] .colab-df-convert:hover {\n",
              "      background-color: #434B5C;\n",
              "      box-shadow: 0px 1px 3px 1px rgba(0, 0, 0, 0.15);\n",
              "      filter: drop-shadow(0px 1px 2px rgba(0, 0, 0, 0.3));\n",
              "      fill: #FFFFFF;\n",
              "    }\n",
              "  </style>\n",
              "\n",
              "      <script>\n",
              "        const buttonEl =\n",
              "          document.querySelector('#df-aeaa300f-efc2-4540-908c-3c7886fb1f9c button.colab-df-convert');\n",
              "        buttonEl.style.display =\n",
              "          google.colab.kernel.accessAllowed ? 'block' : 'none';\n",
              "\n",
              "        async function convertToInteractive(key) {\n",
              "          const element = document.querySelector('#df-aeaa300f-efc2-4540-908c-3c7886fb1f9c');\n",
              "          const dataTable =\n",
              "            await google.colab.kernel.invokeFunction('convertToInteractive',\n",
              "                                                     [key], {});\n",
              "          if (!dataTable) return;\n",
              "\n",
              "          const docLinkHtml = 'Like what you see? Visit the ' +\n",
              "            '<a target=\"_blank\" href=https://colab.research.google.com/notebooks/data_table.ipynb>data table notebook</a>'\n",
              "            + ' to learn more about interactive tables.';\n",
              "          element.innerHTML = '';\n",
              "          dataTable['output_type'] = 'display_data';\n",
              "          await google.colab.output.renderOutput(dataTable, element);\n",
              "          const docLink = document.createElement('div');\n",
              "          docLink.innerHTML = docLinkHtml;\n",
              "          element.appendChild(docLink);\n",
              "        }\n",
              "      </script>\n",
              "    </div>\n",
              "  </div>\n",
              "  "
            ]
          },
          "metadata": {},
          "execution_count": 47
        }
      ]
    },
    {
      "cell_type": "code",
      "source": [
        "test.toPandas()"
      ],
      "metadata": {
        "colab": {
          "base_uri": "https://localhost:8080/",
          "height": 424
        },
        "id": "3qNnjG1RVqfg",
        "outputId": "efe81ced-9a14-48ea-9937-2c8ec49c424e"
      },
      "execution_count": 48,
      "outputs": [
        {
          "output_type": "execute_result",
          "data": {
            "text/plain": [
              "                                              features  Renal failure\n",
              "0    [76.97618865966797, 4.666666507720947, 112.605...              1\n",
              "1    [80.5999984741211, 4.144444465637207, 107.2592...              0\n",
              "2    [85.59091186523438, 3.5928571224212646, 68.391...              1\n",
              "3    [85.59459686279297, 5.016666889190674, 72.5405...              0\n",
              "4    [85.88571166992188, 4.111111164093018, 88.1282...              1\n",
              "..                                                 ...            ...\n",
              "357  [168.5500030517578, 5.785714149475098, 82.375,...              1\n",
              "358  [173.56521606445312, 4.170000076293945, 60.541...              0\n",
              "359  [174.24490356445312, 4.188889026641846, 92.553...              0\n",
              "360  [180.69564819335938, 4.2272725105285645, 86.13...              1\n",
              "361  [203.0, 4.288888931274414, 74.17857360839844, ...              0\n",
              "\n",
              "[362 rows x 2 columns]"
            ],
            "text/html": [
              "\n",
              "  <div id=\"df-0c59bd47-5c7e-4743-b7de-6bc868e0cb34\">\n",
              "    <div class=\"colab-df-container\">\n",
              "      <div>\n",
              "<style scoped>\n",
              "    .dataframe tbody tr th:only-of-type {\n",
              "        vertical-align: middle;\n",
              "    }\n",
              "\n",
              "    .dataframe tbody tr th {\n",
              "        vertical-align: top;\n",
              "    }\n",
              "\n",
              "    .dataframe thead th {\n",
              "        text-align: right;\n",
              "    }\n",
              "</style>\n",
              "<table border=\"1\" class=\"dataframe\">\n",
              "  <thead>\n",
              "    <tr style=\"text-align: right;\">\n",
              "      <th></th>\n",
              "      <th>features</th>\n",
              "      <th>Renal failure</th>\n",
              "    </tr>\n",
              "  </thead>\n",
              "  <tbody>\n",
              "    <tr>\n",
              "      <th>0</th>\n",
              "      <td>[76.97618865966797, 4.666666507720947, 112.605...</td>\n",
              "      <td>1</td>\n",
              "    </tr>\n",
              "    <tr>\n",
              "      <th>1</th>\n",
              "      <td>[80.5999984741211, 4.144444465637207, 107.2592...</td>\n",
              "      <td>0</td>\n",
              "    </tr>\n",
              "    <tr>\n",
              "      <th>2</th>\n",
              "      <td>[85.59091186523438, 3.5928571224212646, 68.391...</td>\n",
              "      <td>1</td>\n",
              "    </tr>\n",
              "    <tr>\n",
              "      <th>3</th>\n",
              "      <td>[85.59459686279297, 5.016666889190674, 72.5405...</td>\n",
              "      <td>0</td>\n",
              "    </tr>\n",
              "    <tr>\n",
              "      <th>4</th>\n",
              "      <td>[85.88571166992188, 4.111111164093018, 88.1282...</td>\n",
              "      <td>1</td>\n",
              "    </tr>\n",
              "    <tr>\n",
              "      <th>...</th>\n",
              "      <td>...</td>\n",
              "      <td>...</td>\n",
              "    </tr>\n",
              "    <tr>\n",
              "      <th>357</th>\n",
              "      <td>[168.5500030517578, 5.785714149475098, 82.375,...</td>\n",
              "      <td>1</td>\n",
              "    </tr>\n",
              "    <tr>\n",
              "      <th>358</th>\n",
              "      <td>[173.56521606445312, 4.170000076293945, 60.541...</td>\n",
              "      <td>0</td>\n",
              "    </tr>\n",
              "    <tr>\n",
              "      <th>359</th>\n",
              "      <td>[174.24490356445312, 4.188889026641846, 92.553...</td>\n",
              "      <td>0</td>\n",
              "    </tr>\n",
              "    <tr>\n",
              "      <th>360</th>\n",
              "      <td>[180.69564819335938, 4.2272725105285645, 86.13...</td>\n",
              "      <td>1</td>\n",
              "    </tr>\n",
              "    <tr>\n",
              "      <th>361</th>\n",
              "      <td>[203.0, 4.288888931274414, 74.17857360839844, ...</td>\n",
              "      <td>0</td>\n",
              "    </tr>\n",
              "  </tbody>\n",
              "</table>\n",
              "<p>362 rows × 2 columns</p>\n",
              "</div>\n",
              "      <button class=\"colab-df-convert\" onclick=\"convertToInteractive('df-0c59bd47-5c7e-4743-b7de-6bc868e0cb34')\"\n",
              "              title=\"Convert this dataframe to an interactive table.\"\n",
              "              style=\"display:none;\">\n",
              "        \n",
              "  <svg xmlns=\"http://www.w3.org/2000/svg\" height=\"24px\"viewBox=\"0 0 24 24\"\n",
              "       width=\"24px\">\n",
              "    <path d=\"M0 0h24v24H0V0z\" fill=\"none\"/>\n",
              "    <path d=\"M18.56 5.44l.94 2.06.94-2.06 2.06-.94-2.06-.94-.94-2.06-.94 2.06-2.06.94zm-11 1L8.5 8.5l.94-2.06 2.06-.94-2.06-.94L8.5 2.5l-.94 2.06-2.06.94zm10 10l.94 2.06.94-2.06 2.06-.94-2.06-.94-.94-2.06-.94 2.06-2.06.94z\"/><path d=\"M17.41 7.96l-1.37-1.37c-.4-.4-.92-.59-1.43-.59-.52 0-1.04.2-1.43.59L10.3 9.45l-7.72 7.72c-.78.78-.78 2.05 0 2.83L4 21.41c.39.39.9.59 1.41.59.51 0 1.02-.2 1.41-.59l7.78-7.78 2.81-2.81c.8-.78.8-2.07 0-2.86zM5.41 20L4 18.59l7.72-7.72 1.47 1.35L5.41 20z\"/>\n",
              "  </svg>\n",
              "      </button>\n",
              "      \n",
              "  <style>\n",
              "    .colab-df-container {\n",
              "      display:flex;\n",
              "      flex-wrap:wrap;\n",
              "      gap: 12px;\n",
              "    }\n",
              "\n",
              "    .colab-df-convert {\n",
              "      background-color: #E8F0FE;\n",
              "      border: none;\n",
              "      border-radius: 50%;\n",
              "      cursor: pointer;\n",
              "      display: none;\n",
              "      fill: #1967D2;\n",
              "      height: 32px;\n",
              "      padding: 0 0 0 0;\n",
              "      width: 32px;\n",
              "    }\n",
              "\n",
              "    .colab-df-convert:hover {\n",
              "      background-color: #E2EBFA;\n",
              "      box-shadow: 0px 1px 2px rgba(60, 64, 67, 0.3), 0px 1px 3px 1px rgba(60, 64, 67, 0.15);\n",
              "      fill: #174EA6;\n",
              "    }\n",
              "\n",
              "    [theme=dark] .colab-df-convert {\n",
              "      background-color: #3B4455;\n",
              "      fill: #D2E3FC;\n",
              "    }\n",
              "\n",
              "    [theme=dark] .colab-df-convert:hover {\n",
              "      background-color: #434B5C;\n",
              "      box-shadow: 0px 1px 3px 1px rgba(0, 0, 0, 0.15);\n",
              "      filter: drop-shadow(0px 1px 2px rgba(0, 0, 0, 0.3));\n",
              "      fill: #FFFFFF;\n",
              "    }\n",
              "  </style>\n",
              "\n",
              "      <script>\n",
              "        const buttonEl =\n",
              "          document.querySelector('#df-0c59bd47-5c7e-4743-b7de-6bc868e0cb34 button.colab-df-convert');\n",
              "        buttonEl.style.display =\n",
              "          google.colab.kernel.accessAllowed ? 'block' : 'none';\n",
              "\n",
              "        async function convertToInteractive(key) {\n",
              "          const element = document.querySelector('#df-0c59bd47-5c7e-4743-b7de-6bc868e0cb34');\n",
              "          const dataTable =\n",
              "            await google.colab.kernel.invokeFunction('convertToInteractive',\n",
              "                                                     [key], {});\n",
              "          if (!dataTable) return;\n",
              "\n",
              "          const docLinkHtml = 'Like what you see? Visit the ' +\n",
              "            '<a target=\"_blank\" href=https://colab.research.google.com/notebooks/data_table.ipynb>data table notebook</a>'\n",
              "            + ' to learn more about interactive tables.';\n",
              "          element.innerHTML = '';\n",
              "          dataTable['output_type'] = 'display_data';\n",
              "          await google.colab.output.renderOutput(dataTable, element);\n",
              "          const docLink = document.createElement('div');\n",
              "          docLink.innerHTML = docLinkHtml;\n",
              "          element.appendChild(docLink);\n",
              "        }\n",
              "      </script>\n",
              "    </div>\n",
              "  </div>\n",
              "  "
            ]
          },
          "metadata": {},
          "execution_count": 48
        }
      ]
    },
    {
      "cell_type": "code",
      "source": [
        "lrn_summary.predictions.describe().show()"
      ],
      "metadata": {
        "colab": {
          "base_uri": "https://localhost:8080/"
        },
        "id": "_JYkvSuMLcc1",
        "outputId": "8d953416-77f7-4842-e115-f43aacb58a35"
      },
      "execution_count": 49,
      "outputs": [
        {
          "output_type": "stream",
          "name": "stdout",
          "text": [
            "+-------+-------------------+-------------------+\n",
            "|summary|      Renal failure|         prediction|\n",
            "+-------+-------------------+-------------------+\n",
            "|  count|                815|                815|\n",
            "|   mean| 0.3754601226993865| 0.3006134969325153|\n",
            "| stddev|0.48453884260460883|0.45880639562109204|\n",
            "|    min|                0.0|                0.0|\n",
            "|    max|                1.0|                1.0|\n",
            "+-------+-------------------+-------------------+\n",
            "\n"
          ]
        }
      ]
    },
    {
      "cell_type": "code",
      "source": [
        "from pyspark.ml.evaluation import BinaryClassificationEvaluator"
      ],
      "metadata": {
        "id": "Mhbg2X6nMWvz"
      },
      "execution_count": 50,
      "outputs": []
    },
    {
      "cell_type": "code",
      "source": [
        "lrn_summary.predictions.show()\n",
        "eval = BinaryClassificationEvaluator(rawPredictionCol = \"prediction\", labelCol = \"label\")\n",
        "auc = eval.evaluate(lrn_summary.predictions)\n",
        "\n",
        "print(auc)"
      ],
      "metadata": {
        "colab": {
          "base_uri": "https://localhost:8080/"
        },
        "id": "qubTQKnDLllx",
        "outputId": "11542158-5b0d-420f-c395-31e879cf457b"
      },
      "execution_count": 51,
      "outputs": [
        {
          "output_type": "stream",
          "name": "stdout",
          "text": [
            "+--------------------+-------------+--------------------+--------------------+----------+\n",
            "|            features|Renal failure|       rawPrediction|         probability|prediction|\n",
            "+--------------------+-------------+--------------------+--------------------+----------+\n",
            "|[75.0,4.699999809...|          1.0|[-1.4853910227031...|[0.18461451770921...|       1.0|\n",
            "|[79.2307662963867...|          1.0|[-1.4996928121281...|[0.18247134425721...|       1.0|\n",
            "|[82.4545440673828...|          0.0|[1.37047859803074...|[0.79745746727569...|       0.0|\n",
            "|[85.0588226318359...|          0.0|[1.74513431165850...|[0.85133804491372...|       0.0|\n",
            "|[85.28125,4.01999...|          0.0|[0.46845799621423...|[0.61501871989951...|       0.0|\n",
            "|[85.3571395874023...|          0.0|[3.81885566432075...|[0.97851866964747...|       0.0|\n",
            "|[85.9523773193359...|          0.0|[1.40403054939391...|[0.80282269696358...|       0.0|\n",
            "|[86.2608718872070...|          1.0|[-4.3353470275241...|[0.01292800581638...|       1.0|\n",
            "|[86.6363601684570...|          0.0|[2.51948576255208...|[0.92549660456212...|       0.0|\n",
            "|[88.0625,4.025000...|          0.0|[0.38034625353017...|[0.59395661236015...|       0.0|\n",
            "|[88.1923065185546...|          1.0|[0.63922945135062...|[0.65457925626683...|       0.0|\n",
            "|[88.5151519775390...|          0.0|[0.05231861886369...|[0.51307667202182...|       0.0|\n",
            "|[88.7666702270507...|          0.0|[1.47413713165051...|[0.81368539539128...|       0.0|\n",
            "|[88.9545440673828...|          0.0|[2.12683477833874...|[0.89348414842887...|       0.0|\n",
            "|[89.2173919677734...|          0.0|[1.64251776658382...|[0.83787723925574...|       0.0|\n",
            "|[89.4166641235351...|          0.0|[2.58863116557192...|[0.93012630707397...|       0.0|\n",
            "|[89.8214263916015...|          1.0|[-0.5319206632241...|[0.37006903534427...|       1.0|\n",
            "|[89.8695678710937...|          0.0|[3.52294397020315...|[0.97133359172446...|       0.0|\n",
            "|[90.1600036621093...|          0.0|[1.39152269517793...|[0.80083522150158...|       0.0|\n",
            "|[90.1999969482421...|          1.0|[-2.2295692062760...|[0.09712641196947...|       1.0|\n",
            "+--------------------+-------------+--------------------+--------------------+----------+\n",
            "only showing top 20 rows\n",
            "\n",
            "0.7616626218267267\n"
          ]
        }
      ]
    },
    {
      "cell_type": "code",
      "source": [
        "import numpy"
      ],
      "metadata": {
        "id": "IR7OHeA4ZrnK"
      },
      "execution_count": 52,
      "outputs": []
    },
    {
      "cell_type": "code",
      "source": [
        "from sklearn import metrics"
      ],
      "metadata": {
        "id": "KjgrRd9WKdT_"
      },
      "execution_count": 53,
      "outputs": []
    },
    {
      "cell_type": "code",
      "source": [
        "from pyspark import SparkContext, SQLContext\n",
        "from pyspark.ml import Pipeline\n",
        "from pyspark.ml.classification import DecisionTreeClassifier\n",
        "from pyspark.ml.evaluation import MulticlassClassificationEvaluator"
      ],
      "metadata": {
        "id": "lwRYqi0tNfZk"
      },
      "execution_count": 54,
      "outputs": []
    },
    {
      "cell_type": "code",
      "source": [
        "import matplotlib.pyplot as plt\n",
        "from sklearn import metrics"
      ],
      "metadata": {
        "id": "EFHgLCPCUjsP"
      },
      "execution_count": 55,
      "outputs": []
    },
    {
      "cell_type": "code",
      "source": [
        "confusion_matrix = metrics.confusion_matrix(df['Renal failure'], df['prediction'])\n"
      ],
      "metadata": {
        "id": "nRoZkgj1Uo4j"
      },
      "execution_count": 56,
      "outputs": []
    },
    {
      "cell_type": "code",
      "source": [
        "confusion_matrix"
      ],
      "metadata": {
        "colab": {
          "base_uri": "https://localhost:8080/"
        },
        "id": "ZeJpq7xqXCyk",
        "outputId": "457f4cf9-6832-40af-9190-63dbe8918877"
      },
      "execution_count": 57,
      "outputs": [
        {
          "output_type": "execute_result",
          "data": {
            "text/plain": [
              "array([[456,  53],\n",
              "       [114, 192]])"
            ]
          },
          "metadata": {},
          "execution_count": 57
        }
      ]
    },
    {
      "cell_type": "code",
      "source": [
        "cm_display = metrics.ConfusionMatrixDisplay(confusion_matrix = confusion_matrix, display_labels = [False, True])\n",
        "\n",
        "cm_display.plot()\n",
        "plt.show()"
      ],
      "metadata": {
        "colab": {
          "base_uri": "https://localhost:8080/",
          "height": 280
        },
        "id": "enMjHxaTXpJo",
        "outputId": "a6af20a8-a6fc-4eb7-e52c-6824ee522798"
      },
      "execution_count": 58,
      "outputs": [
        {
          "output_type": "display_data",
          "data": {
            "text/plain": [
              "<Figure size 432x288 with 2 Axes>"
            ],
            "image/png": "[encoded data removed]"
          },
          "metadata": {
            "needs_background": "light"
          }
        }
      ]
    },
    {
      "cell_type": "code",
      "source": [
        "from pyspark.ml.tuning import CrossValidator, ParamGridBuilder"
      ],
      "metadata": {
        "id": "M8WE7Jci73gj"
      },
      "execution_count": 59,
      "outputs": []
    },
    {
      "cell_type": "code",
      "source": [],
      "metadata": {
        "id": "5jFWqHVz74sN"
      },
      "execution_count": null,
      "outputs": []
    }
  ]
}