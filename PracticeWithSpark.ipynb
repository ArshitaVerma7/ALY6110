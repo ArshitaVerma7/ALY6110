{
  "nbformat": 4,
  "nbformat_minor": 0,
  "metadata": {
    "colab": {
      "provenance": []
    },
    "kernelspec": {
      "name": "python3",
      "display_name": "Python 3"
    },
    "language_info": {
      "name": "python"
    }
  },
  "cells": [
    {
      "cell_type": "code",
      "execution_count": 2,
      "metadata": {
        "colab": {
          "base_uri": "https://localhost:8080/"
        },
        "id": "QH8tI7T0m00N",
        "outputId": "0ca26330-5634-4c59-927c-1107328cd386"
      },
      "outputs": [
        {
          "output_type": "stream",
          "name": "stdout",
          "text": [
            "Looking in indexes: https://pypi.org/simple, https://us-python.pkg.dev/colab-wheels/public/simple/\n",
            "Collecting pyspark\n",
            "  Downloading pyspark-3.3.1.tar.gz (281.4 MB)\n",
            "\u001b[K     |████████████████████████████████| 281.4 MB 40 kB/s \n",
            "\u001b[?25hCollecting py4j==0.10.9.5\n",
            "  Downloading py4j-0.10.9.5-py2.py3-none-any.whl (199 kB)\n",
            "\u001b[K     |████████████████████████████████| 199 kB 56.7 MB/s \n",
            "\u001b[?25hBuilding wheels for collected packages: pyspark\n",
            "  Building wheel for pyspark (setup.py) ... \u001b[?25l\u001b[?25hdone\n",
            "  Created wheel for pyspark: filename=pyspark-3.3.1-py2.py3-none-any.whl size=281845512 sha256=c2a346c9f2fc9ee6ab1a766fe8f3ffa0752b46070f6b5a8e5b73332bd16c9574\n",
            "  Stored in directory: /root/.cache/pip/wheels/43/dc/11/ec201cd671da62fa9c5cc77078235e40722170ceba231d7598\n",
            "Successfully built pyspark\n",
            "Installing collected packages: py4j, pyspark\n",
            "Successfully installed py4j-0.10.9.5 pyspark-3.3.1\n"
          ]
        }
      ],
      "source": [
        "!pip install pyspark"
      ]
    },
    {
      "cell_type": "code",
      "source": [
        "import pyspark\n",
        "from pyspark.sql import SparkSession"
      ],
      "metadata": {
        "id": "chIG_48hm7L5"
      },
      "execution_count": 3,
      "outputs": []
    },
    {
      "cell_type": "code",
      "source": [
        "spark=SparkSession.builder.appName('housing_price_model').getOrCreate()"
      ],
      "metadata": {
        "id": "_V-KhGs9opWr"
      },
      "execution_count": 4,
      "outputs": []
    },
    {
      "cell_type": "code",
      "source": [
        "path = \"cruise_ship_info.csv\"\n",
        "df = spark.read.option(\"header\",'True').option('delimiter', ',').csv(path)\n",
        "df.printSchema()"
      ],
      "metadata": {
        "colab": {
          "base_uri": "https://localhost:8080/"
        },
        "id": "f7sliH6So_Ph",
        "outputId": "c8b0fb6c-7f1d-488d-ae75-5ef6125599cf"
      },
      "execution_count": 5,
      "outputs": [
        {
          "output_type": "stream",
          "name": "stdout",
          "text": [
            "root\n",
            " |-- Ship_name: string (nullable = true)\n",
            " |-- Cruise_line: string (nullable = true)\n",
            " |-- Age: string (nullable = true)\n",
            " |-- Tonnage: string (nullable = true)\n",
            " |-- passengers: string (nullable = true)\n",
            " |-- length: string (nullable = true)\n",
            " |-- cabins: string (nullable = true)\n",
            " |-- passenger_density: string (nullable = true)\n",
            " |-- crew: string (nullable = true)\n",
            "\n"
          ]
        }
      ]
    },
    {
      "cell_type": "code",
      "source": [
        "from pyspark.ml.feature import StringIndexer\n"
      ],
      "metadata": {
        "id": "FHwAxZ5qpYxo"
      },
      "execution_count": 7,
      "outputs": []
    },
    {
      "cell_type": "code",
      "source": [
        "indexer=StringIndexer(inputCol=\"Cruise_line\", outputCol='Cruise_line_cat')\n",
        "df=indexer.fit(df).transform(df)"
      ],
      "metadata": {
        "id": "cVYy7jtAu11l"
      },
      "execution_count": 30,
      "outputs": []
    },
    {
      "cell_type": "code",
      "source": [
        "from pyspark.sql.types import IntegerType, FloatType, StringType\n",
        "df = df.withColumn(\"Age\", df[\"Age\"].cast(IntegerType()))\\\n",
        ".withColumn(\"Tonnage\", df[\"Tonnage\"].cast(FloatType()))\\\n",
        ".withColumn(\"passengers\", df[\"passengers\"].cast(FloatType()))\\\n",
        ".withColumn(\"length\", df[\"length\"].cast(FloatType()))\\\n",
        ".withColumn(\"cabins\", df[\"cabins\"].cast(FloatType()))\\\n",
        ".withColumn(\"passenger_density\", df[\"passenger_density\"].cast(FloatType()))\\\n",
        ".withColumn(\"crew\", df[\"crew\"].cast(FloatType()))"
      ],
      "metadata": {
        "id": "U8Flg3rVAzbg"
      },
      "execution_count": 31,
      "outputs": []
    },
    {
      "cell_type": "code",
      "source": [
        "df.printSchema()"
      ],
      "metadata": {
        "colab": {
          "base_uri": "https://localhost:8080/"
        },
        "id": "VT9NEL2VCMBK",
        "outputId": "6c9affac-bcb7-44f4-ce88-cab1f715ba66"
      },
      "execution_count": 26,
      "outputs": [
        {
          "output_type": "stream",
          "name": "stdout",
          "text": [
            "root\n",
            " |-- Ship_name: string (nullable = true)\n",
            " |-- Cruise_line: string (nullable = true)\n",
            " |-- Age: integer (nullable = true)\n",
            " |-- Tonnage: float (nullable = true)\n",
            " |-- passengers: float (nullable = true)\n",
            " |-- length: float (nullable = true)\n",
            " |-- cabins: float (nullable = true)\n",
            " |-- passenger_density: float (nullable = true)\n",
            " |-- crew: float (nullable = true)\n",
            "\n"
          ]
        }
      ]
    },
    {
      "cell_type": "code",
      "source": [
        "df.show(5)"
      ],
      "metadata": {
        "colab": {
          "base_uri": "https://localhost:8080/"
        },
        "id": "e8leA13ut_Th",
        "outputId": "2b8c96b5-c58d-419a-c54b-d3c2c33fdf68"
      },
      "execution_count": 49,
      "outputs": [
        {
          "output_type": "stream",
          "name": "stdout",
          "text": [
            "+-----------+-----------+---+-------+----------+------+------+-----------------+----+---------------+\n",
            "|  Ship_name|Cruise_line|Age|Tonnage|passengers|length|cabins|passenger_density|crew|Cruise_line_cat|\n",
            "+-----------+-----------+---+-------+----------+------+------+-----------------+----+---------------+\n",
            "|    Journey|    Azamara|  6| 30.277|      6.94|  5.94|  3.55|            42.64|3.55|           16.0|\n",
            "|      Quest|    Azamara|  6| 30.277|      6.94|  5.94|  3.55|            42.64|3.55|           16.0|\n",
            "|Celebration|   Carnival| 26| 47.262|     14.86|  7.22|  7.43|             31.8| 6.7|            1.0|\n",
            "|   Conquest|   Carnival| 11|  110.0|     29.74|  9.53| 14.88|            36.99|19.1|            1.0|\n",
            "|    Destiny|   Carnival| 17|101.353|     26.42|  8.92| 13.21|            38.36|10.0|            1.0|\n",
            "+-----------+-----------+---+-------+----------+------+------+-----------------+----+---------------+\n",
            "only showing top 5 rows\n",
            "\n"
          ]
        }
      ]
    },
    {
      "cell_type": "code",
      "source": [
        "for item in df.head(5):\n",
        "    print(item)\n",
        "    print('\\n')"
      ],
      "metadata": {
        "colab": {
          "base_uri": "https://localhost:8080/"
        },
        "id": "0lLJrdHuprd2",
        "outputId": "c356dbea-1cc5-421b-c850-a5a29fcd2dbc"
      },
      "execution_count": 50,
      "outputs": [
        {
          "output_type": "stream",
          "name": "stdout",
          "text": [
            "Row(Ship_name='Journey', Cruise_line='Azamara', Age=6, Tonnage=30.277000427246094, passengers=6.940000057220459, length=5.940000057220459, cabins=3.549999952316284, passenger_density=42.63999938964844, crew=3.549999952316284, Cruise_line_cat=16.0)\n",
            "\n",
            "\n",
            "Row(Ship_name='Quest', Cruise_line='Azamara', Age=6, Tonnage=30.277000427246094, passengers=6.940000057220459, length=5.940000057220459, cabins=3.549999952316284, passenger_density=42.63999938964844, crew=3.549999952316284, Cruise_line_cat=16.0)\n",
            "\n",
            "\n",
            "Row(Ship_name='Celebration', Cruise_line='Carnival', Age=26, Tonnage=47.262001037597656, passengers=14.859999656677246, length=7.21999979019165, cabins=7.429999828338623, passenger_density=31.799999237060547, crew=6.699999809265137, Cruise_line_cat=1.0)\n",
            "\n",
            "\n",
            "Row(Ship_name='Conquest', Cruise_line='Carnival', Age=11, Tonnage=110.0, passengers=29.739999771118164, length=9.529999732971191, cabins=14.880000114440918, passenger_density=36.9900016784668, crew=19.100000381469727, Cruise_line_cat=1.0)\n",
            "\n",
            "\n",
            "Row(Ship_name='Destiny', Cruise_line='Carnival', Age=17, Tonnage=101.35299682617188, passengers=26.420000076293945, length=8.920000076293945, cabins=13.210000038146973, passenger_density=38.36000061035156, crew=10.0, Cruise_line_cat=1.0)\n",
            "\n",
            "\n"
          ]
        }
      ]
    },
    {
      "cell_type": "code",
      "source": [
        "from pyspark.ml.linalg import Vectors\n",
        "from pyspark.ml.feature import VectorAssembler"
      ],
      "metadata": {
        "id": "EAQxcXM4pv-m"
      },
      "execution_count": 22,
      "outputs": []
    },
    {
      "cell_type": "code",
      "source": [
        "assembler=VectorAssembler(inputCols=['Age',\n",
        " 'Tonnage',\n",
        " 'passengers',\n",
        " 'length',\n",
        " 'cabins',\n",
        " 'passenger_density',\n",
        " 'Cruise_line_cat'],outputCol='features')\n",
        "output=assembler.transform(df)\n",
        "output.select('features','crew').show(5)"
      ],
      "metadata": {
        "colab": {
          "base_uri": "https://localhost:8080/"
        },
        "id": "vojPmqavp2zi",
        "outputId": "84ba18e8-e0c0-4de1-f098-e603196eef63"
      },
      "execution_count": 32,
      "outputs": [
        {
          "output_type": "stream",
          "name": "stdout",
          "text": [
            "+--------------------+----+\n",
            "|            features|crew|\n",
            "+--------------------+----+\n",
            "|[6.0,30.277000427...|3.55|\n",
            "|[6.0,30.277000427...|3.55|\n",
            "|[26.0,47.26200103...| 6.7|\n",
            "|[11.0,110.0,29.73...|19.1|\n",
            "|[17.0,101.3529968...|10.0|\n",
            "+--------------------+----+\n",
            "only showing top 5 rows\n",
            "\n"
          ]
        }
      ]
    },
    {
      "cell_type": "code",
      "source": [
        "final_data=output.select('features','crew')"
      ],
      "metadata": {
        "id": "RWPx0DnlwzIg"
      },
      "execution_count": 33,
      "outputs": []
    },
    {
      "cell_type": "code",
      "source": [
        "train_data,test_data=final_data.randomSplit([0.7,0.3])\n",
        "train_data.describe().show()"
      ],
      "metadata": {
        "colab": {
          "base_uri": "https://localhost:8080/"
        },
        "id": "ogZ9BJmdw2WL",
        "outputId": "6d312a03-fae5-4eff-dbd6-3e6dd3eb87e9"
      },
      "execution_count": 34,
      "outputs": [
        {
          "output_type": "stream",
          "name": "stdout",
          "text": [
            "+-------+-----------------+\n",
            "|summary|             crew|\n",
            "+-------+-----------------+\n",
            "|  count|              105|\n",
            "|   mean|7.755904754002889|\n",
            "| stddev| 3.48913472852596|\n",
            "|    min|             0.59|\n",
            "|    max|             21.0|\n",
            "+-------+-----------------+\n",
            "\n"
          ]
        }
      ]
    },
    {
      "cell_type": "code",
      "source": [
        "test_data.describe().show()"
      ],
      "metadata": {
        "colab": {
          "base_uri": "https://localhost:8080/"
        },
        "id": "srT7hutww9nV",
        "outputId": "46a871a5-fa56-4e00-ea6a-670991f52734"
      },
      "execution_count": 35,
      "outputs": [
        {
          "output_type": "stream",
          "name": "stdout",
          "text": [
            "+-------+------------------+\n",
            "|summary|              crew|\n",
            "+-------+------------------+\n",
            "|  count|                53|\n",
            "|   mean| 7.870000018263763|\n",
            "| stddev|3.5640373250181376|\n",
            "|    min|              0.88|\n",
            "|    max|              19.1|\n",
            "+-------+------------------+\n",
            "\n"
          ]
        }
      ]
    },
    {
      "cell_type": "code",
      "source": [
        "test_data.show(5)"
      ],
      "metadata": {
        "colab": {
          "base_uri": "https://localhost:8080/"
        },
        "id": "2sisRN4DzO6z",
        "outputId": "82bec874-e380-4de7-f793-f509584529c0"
      },
      "execution_count": 36,
      "outputs": [
        {
          "output_type": "stream",
          "name": "stdout",
          "text": [
            "+--------------------+----+\n",
            "|            features|crew|\n",
            "+--------------------+----+\n",
            "|[5.0,160.0,36.340...|13.6|\n",
            "|[6.0,30.277000427...|3.55|\n",
            "|[9.0,81.0,21.4400...|10.0|\n",
            "|[9.0,85.0,19.6800...|8.69|\n",
            "|[9.0,88.5,21.2399...|10.3|\n",
            "+--------------------+----+\n",
            "only showing top 5 rows\n",
            "\n"
          ]
        }
      ]
    },
    {
      "cell_type": "code",
      "source": [
        "from pyspark.ml.regression import LinearRegression"
      ],
      "metadata": {
        "id": "ORFJ7r88xCli"
      },
      "execution_count": 37,
      "outputs": []
    },
    {
      "cell_type": "code",
      "source": [
        "lr=LinearRegression(featuresCol='features',labelCol='crew')"
      ],
      "metadata": {
        "id": "G9OtSMRdxHRq"
      },
      "execution_count": 39,
      "outputs": []
    },
    {
      "cell_type": "code",
      "source": [
        "trained_model=lr.fit(train_data)"
      ],
      "metadata": {
        "id": "WE9fPsfoxKXE"
      },
      "execution_count": 41,
      "outputs": []
    },
    {
      "cell_type": "code",
      "source": [
        "results=trained_model.evaluate(train_data)"
      ],
      "metadata": {
        "id": "dTmeO63fyDwD"
      },
      "execution_count": 55,
      "outputs": []
    },
    {
      "cell_type": "code",
      "source": [
        "print('Rsquared Error :',results.r2)"
      ],
      "metadata": {
        "colab": {
          "base_uri": "https://localhost:8080/"
        },
        "id": "3WDste-fyHtA",
        "outputId": "798427d6-4275-4431-ae86-e4a347640e6b"
      },
      "execution_count": 56,
      "outputs": [
        {
          "output_type": "stream",
          "name": "stdout",
          "text": [
            "Rsquared Error : 0.9469262493757197\n"
          ]
        }
      ]
    },
    {
      "cell_type": "code",
      "source": [
        "print(results.meanSquaredError)"
      ],
      "metadata": {
        "colab": {
          "base_uri": "https://localhost:8080/"
        },
        "id": "SS56PNvOyb0F",
        "outputId": "8fbadcb2-371d-44f7-a6ec-7ef7f84ba127"
      },
      "execution_count": 57,
      "outputs": [
        {
          "output_type": "stream",
          "name": "stdout",
          "text": [
            "0.6399695325641027\n"
          ]
        }
      ]
    },
    {
      "cell_type": "code",
      "source": [
        "print(results.meanAbsoluteError)"
      ],
      "metadata": {
        "colab": {
          "base_uri": "https://localhost:8080/"
        },
        "id": "4IIE4m3Dy4y5",
        "outputId": "fd503844-9dda-47a6-c018-4ad5ec4a5f27"
      },
      "execution_count": 58,
      "outputs": [
        {
          "output_type": "stream",
          "name": "stdout",
          "text": [
            "0.5517530423756637\n"
          ]
        }
      ]
    },
    {
      "cell_type": "code",
      "source": [
        "print(results.rootMeanSquaredError)"
      ],
      "metadata": {
        "colab": {
          "base_uri": "https://localhost:8080/"
        },
        "id": "GWr25tgJy-vc",
        "outputId": "a26228fc-0036-4588-c5ff-b5277a481588"
      },
      "execution_count": 59,
      "outputs": [
        {
          "output_type": "stream",
          "name": "stdout",
          "text": [
            "0.7999809576259317\n"
          ]
        }
      ]
    },
    {
      "cell_type": "code",
      "source": [
        "unlabeled_data=test_data.select('features')\n",
        "unlabeled_data.show(5)"
      ],
      "metadata": {
        "colab": {
          "base_uri": "https://localhost:8080/"
        },
        "id": "kK8g3beAyPRm",
        "outputId": "168c91a0-45ec-4479-8fd6-7a2f3c535c34"
      },
      "execution_count": 60,
      "outputs": [
        {
          "output_type": "stream",
          "name": "stdout",
          "text": [
            "+--------------------+\n",
            "|            features|\n",
            "+--------------------+\n",
            "|[5.0,160.0,36.340...|\n",
            "|[6.0,30.277000427...|\n",
            "|[9.0,81.0,21.4400...|\n",
            "|[9.0,85.0,19.6800...|\n",
            "|[9.0,88.5,21.2399...|\n",
            "+--------------------+\n",
            "only showing top 5 rows\n",
            "\n"
          ]
        }
      ]
    },
    {
      "cell_type": "code",
      "source": [
        "predictions=trained_model.transform(unlabeled_data)\n",
        "predictions.show()"
      ],
      "metadata": {
        "colab": {
          "base_uri": "https://localhost:8080/"
        },
        "id": "ZAcfcdVwyQ59",
        "outputId": "8a123417-2203-42db-f75d-cd4c10ad8909"
      },
      "execution_count": 61,
      "outputs": [
        {
          "output_type": "stream",
          "name": "stdout",
          "text": [
            "+--------------------+------------------+\n",
            "|            features|        prediction|\n",
            "+--------------------+------------------+\n",
            "|[5.0,160.0,36.340...|15.039473940083584|\n",
            "|[6.0,30.277000427...| 4.349973914063711|\n",
            "|[9.0,81.0,21.4400...| 9.405353653196455|\n",
            "|[9.0,85.0,19.6800...| 9.276204997604813|\n",
            "|[9.0,88.5,21.2399...|  9.49596610172925|\n",
            "|[9.0,105.0,27.200...|11.135601457643201|\n",
            "|[9.0,110.0,29.739...|11.922192871763258|\n",
            "|[10.0,58.82500076...| 7.228363655159785|\n",
            "|[10.0,77.0,20.159...| 8.701419254614182|\n",
            "|[10.0,90.08999633...| 8.872239377271269|\n",
            "|[10.0,105.0,27.20...|11.124411719363957|\n",
            "|[10.0,110.0,29.73...|  11.9071575291223|\n",
            "|[10.0,138.0,31.13...|12.961095394888384|\n",
            "|[11.0,58.59999847...| 7.342993064258255|\n",
            "|[11.0,90.0,22.399...| 9.940504342626802|\n",
            "|[11.0,108.9769973...|11.010791024140849|\n",
            "|[11.0,110.0,29.73...|11.911255884185636|\n",
            "|[12.0,25.0,3.8800...|2.9919406575782257|\n",
            "|[12.0,77.10399627...| 8.692154581917933|\n",
            "|[12.0,88.5,21.239...| 9.416814827782066|\n",
            "+--------------------+------------------+\n",
            "only showing top 20 rows\n",
            "\n"
          ]
        }
      ]
    }
  ]
}