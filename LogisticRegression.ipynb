{
  "nbformat": 4,
  "nbformat_minor": 0,
  "metadata": {
    "colab": {
      "provenance": []
    },
    "kernelspec": {
      "name": "python3",
      "display_name": "Python 3"
    },
    "language_info": {
      "name": "python"
    }
  },
  "cells": [
    {
      "cell_type": "code",
      "execution_count": 1,
      "metadata": {
        "colab": {
          "base_uri": "https://localhost:8080/"
        },
        "id": "3LqFyNEe914l",
        "outputId": "de755c1e-dfb5-4ae7-b423-27c42d7e3182"
      },
      "outputs": [
        {
          "output_type": "stream",
          "name": "stdout",
          "text": [
            "Looking in indexes: https://pypi.org/simple, https://us-python.pkg.dev/colab-wheels/public/simple/\n",
            "Collecting pyspark\n",
            "  Downloading pyspark-3.3.1.tar.gz (281.4 MB)\n",
            "\u001b[K     |████████████████████████████████| 281.4 MB 33 kB/s \n",
            "\u001b[?25hCollecting py4j==0.10.9.5\n",
            "  Downloading py4j-0.10.9.5-py2.py3-none-any.whl (199 kB)\n",
            "\u001b[K     |████████████████████████████████| 199 kB 52.8 MB/s \n",
            "\u001b[?25hBuilding wheels for collected packages: pyspark\n",
            "  Building wheel for pyspark (setup.py) ... \u001b[?25l\u001b[?25hdone\n",
            "  Created wheel for pyspark: filename=pyspark-3.3.1-py2.py3-none-any.whl size=281845512 sha256=abfd07c7ce58cc7e3fbd9f6841fce17cdfea7aeebae16e76255665f5a6753f59\n",
            "  Stored in directory: /root/.cache/pip/wheels/43/dc/11/ec201cd671da62fa9c5cc77078235e40722170ceba231d7598\n",
            "Successfully built pyspark\n",
            "Installing collected packages: py4j, pyspark\n",
            "Successfully installed py4j-0.10.9.5 pyspark-3.3.1\n"
          ]
        }
      ],
      "source": [
        "!pip install pyspark"
      ]
    },
    {
      "cell_type": "code",
      "source": [
        "import pyspark\n",
        "from pyspark.sql import SparkSession\n",
        "from pyspark.ml.regression import LinearRegression\n",
        "from pyspark.ml.feature import VectorAssembler\n",
        "from pyspark.ml.classification import LogisticRegression"
      ],
      "metadata": {
        "id": "tdKR6m_1-e9N"
      },
      "execution_count": 54,
      "outputs": []
    },
    {
      "cell_type": "code",
      "source": [
        "spark = SparkSession.builder.appName(\"Customers\").getOrCreate()"
      ],
      "metadata": {
        "id": "3sXDr7SI-wJk"
      },
      "execution_count": 55,
      "outputs": []
    },
    {
      "cell_type": "code",
      "source": [
        "path = \"Final Dataset (1).csv\"\n",
        "\n",
        "df = spark.read.option(\"header\",'True').option('delimiter', ',').csv(path)\n",
        "df.printSchema()"
      ],
      "metadata": {
        "colab": {
          "base_uri": "https://localhost:8080/"
        },
        "id": "vljWBNzH-_En",
        "outputId": "f6a30aea-0bec-4210-fbb2-52671563063b"
      },
      "execution_count": 56,
      "outputs": [
        {
          "output_type": "stream",
          "name": "stdout",
          "text": [
            "root\n",
            " |-- group: string (nullable = true)\n",
            " |-- ID: string (nullable = true)\n",
            " |-- outcome: string (nullable = true)\n",
            " |-- age: string (nullable = true)\n",
            " |-- gendera: string (nullable = true)\n",
            " |-- BMI: string (nullable = true)\n",
            " |-- hypertensive: string (nullable = true)\n",
            " |-- atrialfibrillation: string (nullable = true)\n",
            " |-- CHD with no MI: string (nullable = true)\n",
            " |-- diabetes: string (nullable = true)\n",
            " |-- deficiencyanemias: string (nullable = true)\n",
            " |-- depression: string (nullable = true)\n",
            " |-- Hyperlipemia: string (nullable = true)\n",
            " |-- Renal failure: string (nullable = true)\n",
            " |-- COPD: string (nullable = true)\n",
            " |-- heart rate: string (nullable = true)\n",
            " |-- Systolic blood pressure: string (nullable = true)\n",
            " |-- Diastolic blood pressure: string (nullable = true)\n",
            " |-- Respiratory rate: string (nullable = true)\n",
            " |-- temperature: string (nullable = true)\n",
            " |-- SP O2: string (nullable = true)\n",
            " |-- Urine output: string (nullable = true)\n",
            " |-- hematocrit: string (nullable = true)\n",
            " |-- RBC: string (nullable = true)\n",
            " |-- MCH: string (nullable = true)\n",
            " |-- MCHC: string (nullable = true)\n",
            " |-- MCV: string (nullable = true)\n",
            " |-- RDW: string (nullable = true)\n",
            " |-- Leucocyte: string (nullable = true)\n",
            " |-- Platelets: string (nullable = true)\n",
            " |-- Neutrophils: string (nullable = true)\n",
            " |-- Basophils: string (nullable = true)\n",
            " |-- Lymphocyte: string (nullable = true)\n",
            " |-- PT: string (nullable = true)\n",
            " |-- INR: string (nullable = true)\n",
            " |-- NT-proBNP: string (nullable = true)\n",
            " |-- Creatine kinase: string (nullable = true)\n",
            " |-- Creatinine: string (nullable = true)\n",
            " |-- Urea nitrogen: string (nullable = true)\n",
            " |-- glucose: string (nullable = true)\n",
            " |-- Blood potassium: string (nullable = true)\n",
            " |-- Blood sodium: string (nullable = true)\n",
            " |-- Blood calcium: string (nullable = true)\n",
            " |-- Chloride: string (nullable = true)\n",
            " |-- Anion gap: string (nullable = true)\n",
            " |-- Magnesium ion: string (nullable = true)\n",
            " |-- PH: string (nullable = true)\n",
            " |-- Bicarbonate: string (nullable = true)\n",
            " |-- Lactic acid: string (nullable = true)\n",
            " |-- PCO2: string (nullable = true)\n",
            " |-- EF: string (nullable = true)\n",
            "\n"
          ]
        }
      ]
    },
    {
      "cell_type": "code",
      "source": [
        "df.show(5)"
      ],
      "metadata": {
        "colab": {
          "base_uri": "https://localhost:8080/"
        },
        "id": "p6JFsTu6D2Ke",
        "outputId": "39697a85-d815-4a3c-edb5-7fbb0dc674b5"
      },
      "execution_count": 57,
      "outputs": [
        {
          "output_type": "stream",
          "name": "stdout",
          "text": [
            "+-----+------+-------+---+-------+-----------+------------+------------------+--------------+--------+-----------------+----------+------------+-------------+----+-----------+-----------------------+------------------------+----------------+-----------+-----------+------------+-----------+-----------+-----------+-----------+------+-----------+-----------+---------+-----------+---------+----------+-----------+-----------+---------+---------------+-----------+-------------+-----------+---------------+------------+-------------+-----------+-----------+-------------+-----+-----------+-----------+----+---+\n",
            "|group|    ID|outcome|age|gendera|        BMI|hypertensive|atrialfibrillation|CHD with no MI|diabetes|deficiencyanemias|depression|Hyperlipemia|Renal failure|COPD| heart rate|Systolic blood pressure|Diastolic blood pressure|Respiratory rate|temperature|      SP O2|Urine output| hematocrit|        RBC|        MCH|       MCHC|   MCV|        RDW|  Leucocyte|Platelets|Neutrophils|Basophils|Lymphocyte|         PT|        INR|NT-proBNP|Creatine kinase| Creatinine|Urea nitrogen|    glucose|Blood potassium|Blood sodium|Blood calcium|   Chloride|  Anion gap|Magnesium ion|   PH|Bicarbonate|Lactic acid|PCO2| EF|\n",
            "+-----+------+-------+---+-------+-----------+------------+------------------+--------------+--------+-----------------+----------+------------+-------------+----+-----------+-----------------------+------------------------+----------------+-----------+-----------+------------+-----------+-----------+-----------+-----------+------+-----------+-----------+---------+-----------+---------+----------+-----------+-----------+---------+---------------+-----------+-------------+-----------+---------------+------------+-------------+-----------+-----------+-------------+-----+-----------+-----------+----+---+\n",
            "|    1|125047|      0| 72|      1|37.58817943|           0|                 0|             0|       1|                1|         0|           1|            1|   0|68.83783784|            155.8666667|             68.33333333|     16.62162162|36.71428571|98.39473684|        2155|26.27272727|       2.96|      28.25|      31.52|  89.9|      16.22|       7.65|    305.1|      74.65|      0.4|      13.3|       10.6|          1|     1956|            148|1.958333333|           50|114.6363636|    4.816666667|      138.75|  7.463636364|109.1666667|13.16666667|  2.618181818| 7.23|21.16666667|        0.5|  40| 55|\n",
            "|    1|139812|      0| 75|      2|         NA|           0|                 0|             0|       0|                1|         0|           0|            0|   1|101.3703704|                    140|                      65|     20.85185185|36.68253968|96.92307692|        1425|      30.78|      3.138|      31.06|      31.66|  98.2|      14.26|      12.74|    246.4|         NA|       NA|        NA|         NA|         NA|     2384|           60.6|1.122222222|  20.33333333|      147.5|           4.45| 138.8888889|       8.1625|98.44444444|11.44444444|       1.8875|7.225|33.44444444|        0.5|  78| 55|\n",
            "|    1|109787|      0| 83|      2|26.57263379|           0|                 0|             0|       0|                1|         0|           0|            1|   0|72.31818182|            135.3333333|                  61.375|           23.64| 36.4537037|95.29166667|        2425|       27.7|       2.62|      34.32|       31.3| 109.8|      23.82|       5.48|    204.2|       68.1|     0.55|      24.5|     11.275|       0.95|     4081|             16|1.871428571|  33.85714286|        149|          5.825| 140.7142857|  8.266666667|105.8571429|         10|  2.157142857|7.268|30.57142857|        0.5|71.5| 35|\n",
            "|    1|130587|      0| 43|      2|83.26462934|           0|                 0|             0|       0|                0|         0|           0|            0|   0|       94.5|                  126.4|                    73.2|     21.85714286|36.28703704|93.84615385|        8760|    36.6375|     4.2775|    26.0625|    30.4125|85.625|    17.0375|      8.225|  216.375|       81.8|     0.15|      14.5|27.06666667|2.666666667|      668|             85|0.585714286|  15.28571429|     128.25|    4.386666667|       138.5|  9.476923077|92.07142857|12.35714286|  1.942857143| 7.37|38.57142857|        0.6|  75| 55|\n",
            "|    1|138290|      0| 75|      2|31.82484194|           1|                 0|             0|       0|                1|         0|           0|            1|   1|      67.92|                 156.56|                   58.12|           21.36|36.76190476|      99.28|        4455|29.93333333|3.286666667|30.66666667|33.66666667|    91|16.26666667|8.833333333|      251|         NA|       NA|        NA|         NA|         NA|    30802|    111.6666667|       1.95|           43|     145.75|    4.783333333| 136.6666667|  8.733333333|      104.5|15.16666667|         1.65| 7.25|         22|        0.6|  50| 55|\n",
            "+-----+------+-------+---+-------+-----------+------------+------------------+--------------+--------+-----------------+----------+------------+-------------+----+-----------+-----------------------+------------------------+----------------+-----------+-----------+------------+-----------+-----------+-----------+-----------+------+-----------+-----------+---------+-----------+---------+----------+-----------+-----------+---------+---------------+-----------+-------------+-----------+---------------+------------+-------------+-----------+-----------+-------------+-----+-----------+-----------+----+---+\n",
            "only showing top 5 rows\n",
            "\n"
          ]
        }
      ]
    },
    {
      "cell_type": "code",
      "source": [
        "##subsetting data frame\n",
        "df1 = df.select(df['Renal failure'],df['Systolic blood pressure'],df['Blood potassium'],df['heart rate'],df['hematocrit'],df['Urine output'],df['Urea nitrogen'],df['Creatinine'],df['hypertensive'],df['diabetes'],df['deficiencyanemias'],df['Lactic acid'],df['EF'])\n",
        "                                            "
      ],
      "metadata": {
        "id": "DUCHKbwINQwG"
      },
      "execution_count": 95,
      "outputs": []
    },
    {
      "cell_type": "code",
      "source": [
        "from pyspark.sql.types import IntegerType, FloatType, StringType\n",
        "df = df.withColumn(\"Renal failure\", df[\"Renal failure\"].cast(IntegerType()))\\\n",
        ".withColumn(\"Systolic blood pressure\", df[\"Systolic blood pressure\"].cast(FloatType()))\\\n",
        ".withColumn(\"Blood potassium\", df[\"Blood potassium\"].cast(FloatType()))\\\n",
        ".withColumn(\"heart rate\", df[\"heart rate\"].cast(FloatType()))\\\n",
        ".withColumn(\"hematocrit\", df[\"hematocrit\"].cast(FloatType()))\\\n",
        ".withColumn(\"Urine output\", df[\"Urine output\"].cast(IntegerType()))\\\n",
        ".withColumn(\"Urea nitrogen\", df[\"Urea nitrogen\"].cast(FloatType()))\\\n",
        ".withColumn(\"Creatinine\", df[\"Creatinine\"].cast(FloatType()))\\\n",
        ".withColumn(\"hypertensive\", df[\"hypertensive\"].cast(IntegerType()))\\\n",
        ".withColumn(\"diabetes\", df[\"diabetes\"].cast(IntegerType()))\\\n",
        ".withColumn(\"deficiencyanemias\", df[\"deficiencyanemias\"].cast(IntegerType()))\\\n",
        ".withColumn(\"Lactic acid\", df[\"Lactic acid\"].cast(FloatType()))\\\n",
        ".withColumn(\"EF\", df[\"EF\"].cast(IntegerType()))"
      ],
      "metadata": {
        "id": "67-AhRJLE-tl"
      },
      "execution_count": 97,
      "outputs": []
    },
    {
      "cell_type": "code",
      "source": [
        "from pyspark.ml.feature import Imputer\n",
        "\n",
        "imputer = Imputer(\n",
        "    inputCols=['Systolic blood pressure','Blood potassium','heart rate','hematocrit','Urine output','Urea nitrogen','Creatinine','hypertensive','diabetes','deficiencyanemias','Lactic acid','EF'], \n",
        "    outputCols=[\"{}\".format(c) for c in ['Systolic blood pressure','Blood potassium','heart rate','hematocrit','Urine output','Urea nitrogen','Creatinine','hypertensive','diabetes','deficiencyanemias','Lactic acid','EF']]\n",
        ")\n",
        "df= imputer.fit(df).transform(df)\n"
      ],
      "metadata": {
        "id": "rCk5uMh7KU1n"
      },
      "execution_count": 98,
      "outputs": []
    },
    {
      "cell_type": "code",
      "source": [
        "featureassembler = VectorAssembler(inputCols = ['Systolic blood pressure','Blood potassium','heart rate','hematocrit','Urine output','Urea nitrogen','Creatinine','hypertensive','diabetes','deficiencyanemias','Lactic acid','EF'], outputCol = \"features\")"
      ],
      "metadata": {
        "id": "U2zk0ZUn_QMr"
      },
      "execution_count": 99,
      "outputs": []
    },
    {
      "cell_type": "code",
      "source": [
        "output = featureassembler.transform(df)\n",
        "output.select(\"features\").show()"
      ],
      "metadata": {
        "colab": {
          "base_uri": "https://localhost:8080/"
        },
        "id": "gYxrRy_YAPGx",
        "outputId": "2a122410-c14b-4357-ef27-0695739dfea5"
      },
      "execution_count": 100,
      "outputs": [
        {
          "output_type": "stream",
          "name": "stdout",
          "text": [
            "+--------------------+\n",
            "|            features|\n",
            "+--------------------+\n",
            "|[155.866668701171...|\n",
            "|[140.0,4.44999980...|\n",
            "|[135.333328247070...|\n",
            "|[126.400001525878...|\n",
            "|[156.559997558593...|\n",
            "|[118.099998474121...|\n",
            "|[106.565216064453...|\n",
            "|[141.130432128906...|\n",
            "|[98.4347839355468...|\n",
            "|[122.0,3.86999988...|\n",
            "|[149.035720825195...|\n",
            "|[103.260871887207...|\n",
            "|[126.903228759765...|\n",
            "|[112.142860412597...|\n",
            "|[107.360000610351...|\n",
            "|[159.695648193359...|\n",
            "|[157.289474487304...|\n",
            "|[113.279998779296...|\n",
            "|[162.240005493164...|\n",
            "|[112.416664123535...|\n",
            "+--------------------+\n",
            "only showing top 20 rows\n",
            "\n"
          ]
        }
      ]
    },
    {
      "cell_type": "code",
      "source": [
        "finalised_data = output.select(\"features\", \"Renal failure\")"
      ],
      "metadata": {
        "id": "4qgUCAubGrcg"
      },
      "execution_count": 101,
      "outputs": []
    },
    {
      "cell_type": "code",
      "source": [
        "finalised_data = output.select('features', 'Renal failure')\n",
        "finalised_data.show()"
      ],
      "metadata": {
        "colab": {
          "base_uri": "https://localhost:8080/"
        },
        "id": "bB4Dogp4HVdD",
        "outputId": "05e2b8ca-1313-4083-f61b-89b3809b5d59"
      },
      "execution_count": 102,
      "outputs": [
        {
          "output_type": "stream",
          "name": "stdout",
          "text": [
            "+--------------------+-------------+\n",
            "|            features|Renal failure|\n",
            "+--------------------+-------------+\n",
            "|[155.866668701171...|            1|\n",
            "|[140.0,4.44999980...|            0|\n",
            "|[135.333328247070...|            1|\n",
            "|[126.400001525878...|            0|\n",
            "|[156.559997558593...|            1|\n",
            "|[118.099998474121...|            1|\n",
            "|[106.565216064453...|            1|\n",
            "|[141.130432128906...|            0|\n",
            "|[98.4347839355468...|            1|\n",
            "|[122.0,3.86999988...|            0|\n",
            "|[149.035720825195...|            0|\n",
            "|[103.260871887207...|            0|\n",
            "|[126.903228759765...|            0|\n",
            "|[112.142860412597...|            1|\n",
            "|[107.360000610351...|            0|\n",
            "|[159.695648193359...|            1|\n",
            "|[157.289474487304...|            1|\n",
            "|[113.279998779296...|            1|\n",
            "|[162.240005493164...|            0|\n",
            "|[112.416664123535...|            1|\n",
            "+--------------------+-------------+\n",
            "only showing top 20 rows\n",
            "\n"
          ]
        }
      ]
    },
    {
      "cell_type": "code",
      "source": [
        "train, test = finalised_data.randomSplit([0.7, 0.3])"
      ],
      "metadata": {
        "id": "HRMOpslEHiU1"
      },
      "execution_count": 103,
      "outputs": []
    },
    {
      "cell_type": "code",
      "source": [
        "lr = LogisticRegression(labelCol=\"Renal failure\")\n",
        "lrn = lr.fit(train)"
      ],
      "metadata": {
        "id": "rKq31v24Hl9z"
      },
      "execution_count": 104,
      "outputs": []
    },
    {
      "cell_type": "code",
      "source": [
        "lrn_summary = lrn.summary\n",
        "lrn_summary.predictions.show()"
      ],
      "metadata": {
        "colab": {
          "base_uri": "https://localhost:8080/"
        },
        "id": "dd8-s1pjLVcO",
        "outputId": "fdd2b93e-a942-4b8a-8dcc-6113ae84e77b"
      },
      "execution_count": 105,
      "outputs": [
        {
          "output_type": "stream",
          "name": "stdout",
          "text": [
            "+--------------------+-------------+--------------------+--------------------+----------+\n",
            "|            features|Renal failure|       rawPrediction|         probability|prediction|\n",
            "+--------------------+-------------+--------------------+--------------------+----------+\n",
            "|[82.4545440673828...|          0.0|[1.77398290334447...|[0.85495228502942...|       0.0|\n",
            "|[85.0588226318359...|          0.0|[1.97328291057122...|[0.87796329319876...|       0.0|\n",
            "|[85.28125,4.01999...|          0.0|[0.94022621683316...|[0.71914534989764...|       0.0|\n",
            "|[85.3571395874023...|          0.0|[4.29316355506079...|[0.98652248737285...|       0.0|\n",
            "|[85.5909118652343...|          1.0|[0.57698971671715...|[0.64037444644685...|       0.0|\n",
            "|[85.8857116699218...|          1.0|[0.79125110474764...|[0.68809990388378...|       0.0|\n",
            "|[85.9523773193359...|          0.0|[1.28463962959110...|[0.78323850900653...|       0.0|\n",
            "|[86.2608718872070...|          1.0|[-3.0538211787038...|[0.04505278868512...|       1.0|\n",
            "|[86.6363601684570...|          0.0|[2.70760070639142...|[0.93747365723932...|       0.0|\n",
            "|[87.6938781738281...|          1.0|[-0.3569479900772...|[0.41169857173318...|       1.0|\n",
            "|[88.1923065185546...|          1.0|[0.96912734919215...|[0.72494552580752...|       0.0|\n",
            "|[88.5151519775390...|          0.0|[0.58501080703487...|[0.64221957613247...|       0.0|\n",
            "|[88.9545440673828...|          0.0|[2.34966330441902...|[0.91290746148136...|       0.0|\n",
            "|[89.2173919677734...|          0.0|[1.86293486317573...|[0.86563866364275...|       0.0|\n",
            "|[89.4166641235351...|          0.0|[2.99634474287943...|[0.95240872107286...|       0.0|\n",
            "|[89.8214263916015...|          1.0|[-0.0286499606126...|[0.49283799973304...|       1.0|\n",
            "|[90.1999969482421...|          1.0|[-1.7374836706827...|[0.14963283724032...|       1.0|\n",
            "|[90.4482727050781...|          0.0|[1.57878409409260...|[0.82903224711520...|       0.0|\n",
            "|[90.5476226806640...|          0.0|[3.30078866943054...|[0.96445585681815...|       0.0|\n",
            "|[90.8571395874023...|          1.0|[-1.5665230581161...|[0.17271262233509...|       1.0|\n",
            "+--------------------+-------------+--------------------+--------------------+----------+\n",
            "only showing top 20 rows\n",
            "\n"
          ]
        }
      ]
    },
    {
      "cell_type": "code",
      "source": [
        "lrn_summary.predictions.describe().show()"
      ],
      "metadata": {
        "colab": {
          "base_uri": "https://localhost:8080/"
        },
        "id": "_JYkvSuMLcc1",
        "outputId": "ee367073-ff64-4b70-95b0-9980f5a93a94"
      },
      "execution_count": 106,
      "outputs": [
        {
          "output_type": "stream",
          "name": "stdout",
          "text": [
            "+-------+-------------------+-------------------+\n",
            "|summary|      Renal failure|         prediction|\n",
            "+-------+-------------------+-------------------+\n",
            "|  count|                793|                793|\n",
            "|   mean| 0.3379571248423707|0.25220680958385877|\n",
            "| stddev|0.47331238022104516|0.43455340781830276|\n",
            "|    min|                0.0|                0.0|\n",
            "|    max|                1.0|                1.0|\n",
            "+-------+-------------------+-------------------+\n",
            "\n"
          ]
        }
      ]
    },
    {
      "cell_type": "code",
      "source": [
        "from pyspark.ml.evaluation import BinaryClassificationEvaluator"
      ],
      "metadata": {
        "id": "Mhbg2X6nMWvz"
      },
      "execution_count": 107,
      "outputs": []
    },
    {
      "cell_type": "code",
      "source": [
        "lrn_summary.predictions.show()\n",
        "eval = BinaryClassificationEvaluator(rawPredictionCol = \"prediction\", labelCol = \"Renal failure\")\n",
        "auc = eval.evaluate(lrn_summary.predictions)\n",
        "print(auc)"
      ],
      "metadata": {
        "colab": {
          "base_uri": "https://localhost:8080/"
        },
        "id": "qubTQKnDLllx",
        "outputId": "755de02e-99e9-430e-ce19-667f55017252"
      },
      "execution_count": 108,
      "outputs": [
        {
          "output_type": "stream",
          "name": "stdout",
          "text": [
            "+--------------------+-------------+--------------------+--------------------+----------+\n",
            "|            features|Renal failure|       rawPrediction|         probability|prediction|\n",
            "+--------------------+-------------+--------------------+--------------------+----------+\n",
            "|[82.4545440673828...|          0.0|[1.77398290334447...|[0.85495228502942...|       0.0|\n",
            "|[85.0588226318359...|          0.0|[1.97328291057122...|[0.87796329319876...|       0.0|\n",
            "|[85.28125,4.01999...|          0.0|[0.94022621683316...|[0.71914534989764...|       0.0|\n",
            "|[85.3571395874023...|          0.0|[4.29316355506079...|[0.98652248737285...|       0.0|\n",
            "|[85.5909118652343...|          1.0|[0.57698971671715...|[0.64037444644685...|       0.0|\n",
            "|[85.8857116699218...|          1.0|[0.79125110474764...|[0.68809990388378...|       0.0|\n",
            "|[85.9523773193359...|          0.0|[1.28463962959110...|[0.78323850900653...|       0.0|\n",
            "|[86.2608718872070...|          1.0|[-3.0538211787038...|[0.04505278868512...|       1.0|\n",
            "|[86.6363601684570...|          0.0|[2.70760070639142...|[0.93747365723932...|       0.0|\n",
            "|[87.6938781738281...|          1.0|[-0.3569479900772...|[0.41169857173318...|       1.0|\n",
            "|[88.1923065185546...|          1.0|[0.96912734919215...|[0.72494552580752...|       0.0|\n",
            "|[88.5151519775390...|          0.0|[0.58501080703487...|[0.64221957613247...|       0.0|\n",
            "|[88.9545440673828...|          0.0|[2.34966330441902...|[0.91290746148136...|       0.0|\n",
            "|[89.2173919677734...|          0.0|[1.86293486317573...|[0.86563866364275...|       0.0|\n",
            "|[89.4166641235351...|          0.0|[2.99634474287943...|[0.95240872107286...|       0.0|\n",
            "|[89.8214263916015...|          1.0|[-0.0286499606126...|[0.49283799973304...|       1.0|\n",
            "|[90.1999969482421...|          1.0|[-1.7374836706827...|[0.14963283724032...|       1.0|\n",
            "|[90.4482727050781...|          0.0|[1.57878409409260...|[0.82903224711520...|       0.0|\n",
            "|[90.5476226806640...|          0.0|[3.30078866943054...|[0.96445585681815...|       0.0|\n",
            "|[90.8571395874023...|          1.0|[-1.5665230581161...|[0.17271262233509...|       1.0|\n",
            "+--------------------+-------------+--------------------+--------------------+----------+\n",
            "only showing top 20 rows\n",
            "\n",
            "0.743503909026297\n"
          ]
        }
      ]
    }
  ]
}