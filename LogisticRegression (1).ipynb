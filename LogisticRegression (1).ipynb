{
  "nbformat": 4,
  "nbformat_minor": 0,
  "metadata": {
    "colab": {
      "provenance": []
    },
    "kernelspec": {
      "name": "python3",
      "display_name": "Python 3"
    },
    "language_info": {
      "name": "python"
    }
  },
  "cells": [
    {
      "cell_type": "code",
      "execution_count": 3,
      "metadata": {
        "colab": {
          "base_uri": "https://localhost:8080/"
        },
        "id": "3LqFyNEe914l",
        "outputId": "70249aeb-e430-4df8-800c-713a2e306be5"
      },
      "outputs": [
        {
          "output_type": "stream",
          "name": "stdout",
          "text": [
            "Looking in indexes: https://pypi.org/simple, https://us-python.pkg.dev/colab-wheels/public/simple/\n",
            "Collecting pyspark\n",
            "  Downloading pyspark-3.3.1.tar.gz (281.4 MB)\n",
            "\u001b[K     |████████████████████████████████| 281.4 MB 47 kB/s \n",
            "\u001b[?25hCollecting py4j==0.10.9.5\n",
            "  Downloading py4j-0.10.9.5-py2.py3-none-any.whl (199 kB)\n",
            "\u001b[K     |████████████████████████████████| 199 kB 57.6 MB/s \n",
            "\u001b[?25hBuilding wheels for collected packages: pyspark\n",
            "  Building wheel for pyspark (setup.py) ... \u001b[?25l\u001b[?25hdone\n",
            "  Created wheel for pyspark: filename=pyspark-3.3.1-py2.py3-none-any.whl size=281845512 sha256=94dcba306eb2a5125c182940ae8853b18521bc7e7953c5495ddb71a5a77511fd\n",
            "  Stored in directory: /root/.cache/pip/wheels/43/dc/11/ec201cd671da62fa9c5cc77078235e40722170ceba231d7598\n",
            "Successfully built pyspark\n",
            "Installing collected packages: py4j, pyspark\n",
            "Successfully installed py4j-0.10.9.5 pyspark-3.3.1\n"
          ]
        }
      ],
      "source": [
        "!pip install pyspark"
      ]
    },
    {
      "cell_type": "code",
      "source": [
        "import pyspark\n",
        "from pyspark.sql import SparkSession\n",
        "from pyspark.ml.regression import LinearRegression\n",
        "from pyspark.ml.feature import VectorAssembler\n",
        "from pyspark.ml.classification import LogisticRegression"
      ],
      "metadata": {
        "id": "tdKR6m_1-e9N"
      },
      "execution_count": 4,
      "outputs": []
    },
    {
      "cell_type": "code",
      "source": [
        "spark = SparkSession.builder.appName(\"Customers\").getOrCreate()"
      ],
      "metadata": {
        "id": "3sXDr7SI-wJk"
      },
      "execution_count": 5,
      "outputs": []
    },
    {
      "cell_type": "code",
      "source": [
        "path = \"Final Dataset (1).csv\"\n",
        "\n",
        "df = spark.read.option(\"header\",'True').option('delimiter', ',').csv(path)\n",
        "df.printSchema()"
      ],
      "metadata": {
        "colab": {
          "base_uri": "https://localhost:8080/"
        },
        "id": "vljWBNzH-_En",
        "outputId": "aa85591b-ed70-41ea-d206-bc6348db4eb6"
      },
      "execution_count": 6,
      "outputs": [
        {
          "output_type": "stream",
          "name": "stdout",
          "text": [
            "root\n",
            " |-- group: string (nullable = true)\n",
            " |-- ID: string (nullable = true)\n",
            " |-- outcome: string (nullable = true)\n",
            " |-- age: string (nullable = true)\n",
            " |-- gendera: string (nullable = true)\n",
            " |-- BMI: string (nullable = true)\n",
            " |-- hypertensive: string (nullable = true)\n",
            " |-- atrialfibrillation: string (nullable = true)\n",
            " |-- CHD with no MI: string (nullable = true)\n",
            " |-- diabetes: string (nullable = true)\n",
            " |-- deficiencyanemias: string (nullable = true)\n",
            " |-- depression: string (nullable = true)\n",
            " |-- Hyperlipemia: string (nullable = true)\n",
            " |-- Renal failure: string (nullable = true)\n",
            " |-- COPD: string (nullable = true)\n",
            " |-- heart rate: string (nullable = true)\n",
            " |-- Systolic blood pressure: string (nullable = true)\n",
            " |-- Diastolic blood pressure: string (nullable = true)\n",
            " |-- Respiratory rate: string (nullable = true)\n",
            " |-- temperature: string (nullable = true)\n",
            " |-- SP O2: string (nullable = true)\n",
            " |-- Urine output: string (nullable = true)\n",
            " |-- hematocrit: string (nullable = true)\n",
            " |-- RBC: string (nullable = true)\n",
            " |-- MCH: string (nullable = true)\n",
            " |-- MCHC: string (nullable = true)\n",
            " |-- MCV: string (nullable = true)\n",
            " |-- RDW: string (nullable = true)\n",
            " |-- Leucocyte: string (nullable = true)\n",
            " |-- Platelets: string (nullable = true)\n",
            " |-- Neutrophils: string (nullable = true)\n",
            " |-- Basophils: string (nullable = true)\n",
            " |-- Lymphocyte: string (nullable = true)\n",
            " |-- PT: string (nullable = true)\n",
            " |-- INR: string (nullable = true)\n",
            " |-- NT-proBNP: string (nullable = true)\n",
            " |-- Creatine kinase: string (nullable = true)\n",
            " |-- Creatinine: string (nullable = true)\n",
            " |-- Urea nitrogen: string (nullable = true)\n",
            " |-- glucose: string (nullable = true)\n",
            " |-- Blood potassium: string (nullable = true)\n",
            " |-- Blood sodium: string (nullable = true)\n",
            " |-- Blood calcium: string (nullable = true)\n",
            " |-- Chloride: string (nullable = true)\n",
            " |-- Anion gap: string (nullable = true)\n",
            " |-- Magnesium ion: string (nullable = true)\n",
            " |-- PH: string (nullable = true)\n",
            " |-- Bicarbonate: string (nullable = true)\n",
            " |-- Lactic acid: string (nullable = true)\n",
            " |-- PCO2: string (nullable = true)\n",
            " |-- EF: string (nullable = true)\n",
            "\n"
          ]
        }
      ]
    },
    {
      "cell_type": "code",
      "source": [
        "df.show(5)"
      ],
      "metadata": {
        "colab": {
          "base_uri": "https://localhost:8080/"
        },
        "id": "p6JFsTu6D2Ke",
        "outputId": "8876bfbf-3868-4e32-a1a2-5d3821d43b14"
      },
      "execution_count": 7,
      "outputs": [
        {
          "output_type": "stream",
          "name": "stdout",
          "text": [
            "+-----+------+-------+---+-------+-----------+------------+------------------+--------------+--------+-----------------+----------+------------+-------------+----+-----------+-----------------------+------------------------+----------------+-----------+-----------+------------+-----------+-----------+-----------+-----------+------+-----------+-----------+---------+-----------+---------+----------+-----------+-----------+---------+---------------+-----------+-------------+-----------+---------------+------------+-------------+-----------+-----------+-------------+-----+-----------+-----------+----+---+\n",
            "|group|    ID|outcome|age|gendera|        BMI|hypertensive|atrialfibrillation|CHD with no MI|diabetes|deficiencyanemias|depression|Hyperlipemia|Renal failure|COPD| heart rate|Systolic blood pressure|Diastolic blood pressure|Respiratory rate|temperature|      SP O2|Urine output| hematocrit|        RBC|        MCH|       MCHC|   MCV|        RDW|  Leucocyte|Platelets|Neutrophils|Basophils|Lymphocyte|         PT|        INR|NT-proBNP|Creatine kinase| Creatinine|Urea nitrogen|    glucose|Blood potassium|Blood sodium|Blood calcium|   Chloride|  Anion gap|Magnesium ion|   PH|Bicarbonate|Lactic acid|PCO2| EF|\n",
            "+-----+------+-------+---+-------+-----------+------------+------------------+--------------+--------+-----------------+----------+------------+-------------+----+-----------+-----------------------+------------------------+----------------+-----------+-----------+------------+-----------+-----------+-----------+-----------+------+-----------+-----------+---------+-----------+---------+----------+-----------+-----------+---------+---------------+-----------+-------------+-----------+---------------+------------+-------------+-----------+-----------+-------------+-----+-----------+-----------+----+---+\n",
            "|    1|125047|      0| 72|      1|37.58817943|           0|                 0|             0|       1|                1|         0|           1|            1|   0|68.83783784|            155.8666667|             68.33333333|     16.62162162|36.71428571|98.39473684|        2155|26.27272727|       2.96|      28.25|      31.52|  89.9|      16.22|       7.65|    305.1|      74.65|      0.4|      13.3|       10.6|          1|     1956|            148|1.958333333|           50|114.6363636|    4.816666667|      138.75|  7.463636364|109.1666667|13.16666667|  2.618181818| 7.23|21.16666667|        0.5|  40| 55|\n",
            "|    1|139812|      0| 75|      2|         NA|           0|                 0|             0|       0|                1|         0|           0|            0|   1|101.3703704|                    140|                      65|     20.85185185|36.68253968|96.92307692|        1425|      30.78|      3.138|      31.06|      31.66|  98.2|      14.26|      12.74|    246.4|         NA|       NA|        NA|         NA|         NA|     2384|           60.6|1.122222222|  20.33333333|      147.5|           4.45| 138.8888889|       8.1625|98.44444444|11.44444444|       1.8875|7.225|33.44444444|        0.5|  78| 55|\n",
            "|    1|109787|      0| 83|      2|26.57263379|           0|                 0|             0|       0|                1|         0|           0|            1|   0|72.31818182|            135.3333333|                  61.375|           23.64| 36.4537037|95.29166667|        2425|       27.7|       2.62|      34.32|       31.3| 109.8|      23.82|       5.48|    204.2|       68.1|     0.55|      24.5|     11.275|       0.95|     4081|             16|1.871428571|  33.85714286|        149|          5.825| 140.7142857|  8.266666667|105.8571429|         10|  2.157142857|7.268|30.57142857|        0.5|71.5| 35|\n",
            "|    1|130587|      0| 43|      2|83.26462934|           0|                 0|             0|       0|                0|         0|           0|            0|   0|       94.5|                  126.4|                    73.2|     21.85714286|36.28703704|93.84615385|        8760|    36.6375|     4.2775|    26.0625|    30.4125|85.625|    17.0375|      8.225|  216.375|       81.8|     0.15|      14.5|27.06666667|2.666666667|      668|             85|0.585714286|  15.28571429|     128.25|    4.386666667|       138.5|  9.476923077|92.07142857|12.35714286|  1.942857143| 7.37|38.57142857|        0.6|  75| 55|\n",
            "|    1|138290|      0| 75|      2|31.82484194|           1|                 0|             0|       0|                1|         0|           0|            1|   1|      67.92|                 156.56|                   58.12|           21.36|36.76190476|      99.28|        4455|29.93333333|3.286666667|30.66666667|33.66666667|    91|16.26666667|8.833333333|      251|         NA|       NA|        NA|         NA|         NA|    30802|    111.6666667|       1.95|           43|     145.75|    4.783333333| 136.6666667|  8.733333333|      104.5|15.16666667|         1.65| 7.25|         22|        0.6|  50| 55|\n",
            "+-----+------+-------+---+-------+-----------+------------+------------------+--------------+--------+-----------------+----------+------------+-------------+----+-----------+-----------------------+------------------------+----------------+-----------+-----------+------------+-----------+-----------+-----------+-----------+------+-----------+-----------+---------+-----------+---------+----------+-----------+-----------+---------+---------------+-----------+-------------+-----------+---------------+------------+-------------+-----------+-----------+-------------+-----+-----------+-----------+----+---+\n",
            "only showing top 5 rows\n",
            "\n"
          ]
        }
      ]
    },
    {
      "cell_type": "code",
      "source": [
        "##subsetting data frame\n",
        "df1 = df.select(df['Renal failure'],df['Systolic blood pressure'],df['Blood potassium'],df['heart rate'],df['hematocrit'],df['Urine output'],df['Urea nitrogen'],df['Creatinine'],df['hypertensive'],df['diabetes'],df['deficiencyanemias'],df['Lactic acid'],df['EF'])\n",
        "                                            "
      ],
      "metadata": {
        "id": "DUCHKbwINQwG"
      },
      "execution_count": 8,
      "outputs": []
    },
    {
      "cell_type": "code",
      "source": [
        "from pyspark.sql.types import IntegerType, FloatType, StringType\n",
        "df = df.withColumn(\"Renal failure\", df[\"Renal failure\"].cast(IntegerType()))\\\n",
        ".withColumn(\"Systolic blood pressure\", df[\"Systolic blood pressure\"].cast(FloatType()))\\\n",
        ".withColumn(\"Blood potassium\", df[\"Blood potassium\"].cast(FloatType()))\\\n",
        ".withColumn(\"heart rate\", df[\"heart rate\"].cast(FloatType()))\\\n",
        ".withColumn(\"hematocrit\", df[\"hematocrit\"].cast(FloatType()))\\\n",
        ".withColumn(\"Urine output\", df[\"Urine output\"].cast(IntegerType()))\\\n",
        ".withColumn(\"Urea nitrogen\", df[\"Urea nitrogen\"].cast(FloatType()))\\\n",
        ".withColumn(\"Creatinine\", df[\"Creatinine\"].cast(FloatType()))\\\n",
        ".withColumn(\"hypertensive\", df[\"hypertensive\"].cast(IntegerType()))\\\n",
        ".withColumn(\"diabetes\", df[\"diabetes\"].cast(IntegerType()))\\\n",
        ".withColumn(\"deficiencyanemias\", df[\"deficiencyanemias\"].cast(IntegerType()))\\\n",
        ".withColumn(\"Lactic acid\", df[\"Lactic acid\"].cast(FloatType()))\\\n",
        ".withColumn(\"EF\", df[\"EF\"].cast(IntegerType()))"
      ],
      "metadata": {
        "id": "67-AhRJLE-tl"
      },
      "execution_count": 9,
      "outputs": []
    },
    {
      "cell_type": "code",
      "source": [
        "from pyspark.ml.feature import Imputer\n",
        "\n",
        "imputer = Imputer(\n",
        "    inputCols=['Systolic blood pressure','Blood potassium','heart rate','hematocrit','Urine output','Urea nitrogen','Creatinine','hypertensive','diabetes','deficiencyanemias','Lactic acid','EF'], \n",
        "    outputCols=[\"{}\".format(c) for c in ['Systolic blood pressure','Blood potassium','heart rate','hematocrit','Urine output','Urea nitrogen','Creatinine','hypertensive','diabetes','deficiencyanemias','Lactic acid','EF']]\n",
        ")\n",
        "df= imputer.fit(df).transform(df)\n"
      ],
      "metadata": {
        "id": "rCk5uMh7KU1n"
      },
      "execution_count": 10,
      "outputs": []
    },
    {
      "cell_type": "code",
      "source": [
        "featureassembler = VectorAssembler(inputCols = ['Systolic blood pressure','Blood potassium','heart rate','hematocrit','Urine output','Urea nitrogen','Creatinine','hypertensive','diabetes','deficiencyanemias','Lactic acid','EF'], outputCol = \"features\")"
      ],
      "metadata": {
        "id": "U2zk0ZUn_QMr"
      },
      "execution_count": 11,
      "outputs": []
    },
    {
      "cell_type": "code",
      "source": [
        "output = featureassembler.transform(df)\n",
        "output.select(\"features\").show()"
      ],
      "metadata": {
        "colab": {
          "base_uri": "https://localhost:8080/"
        },
        "id": "gYxrRy_YAPGx",
        "outputId": "80127657-5685-44ef-a518-4d4c02284161"
      },
      "execution_count": 12,
      "outputs": [
        {
          "output_type": "stream",
          "name": "stdout",
          "text": [
            "+--------------------+\n",
            "|            features|\n",
            "+--------------------+\n",
            "|[155.866668701171...|\n",
            "|[140.0,4.44999980...|\n",
            "|[135.333328247070...|\n",
            "|[126.400001525878...|\n",
            "|[156.559997558593...|\n",
            "|[118.099998474121...|\n",
            "|[106.565216064453...|\n",
            "|[141.130432128906...|\n",
            "|[98.4347839355468...|\n",
            "|[122.0,3.86999988...|\n",
            "|[149.035720825195...|\n",
            "|[103.260871887207...|\n",
            "|[126.903228759765...|\n",
            "|[112.142860412597...|\n",
            "|[107.360000610351...|\n",
            "|[159.695648193359...|\n",
            "|[157.289474487304...|\n",
            "|[113.279998779296...|\n",
            "|[162.240005493164...|\n",
            "|[112.416664123535...|\n",
            "+--------------------+\n",
            "only showing top 20 rows\n",
            "\n"
          ]
        }
      ]
    },
    {
      "cell_type": "code",
      "source": [
        "finalised_data = output.select(\"features\", \"Renal failure\")"
      ],
      "metadata": {
        "id": "4qgUCAubGrcg"
      },
      "execution_count": 13,
      "outputs": []
    },
    {
      "cell_type": "code",
      "source": [
        "finalised_data = output.select('features', 'Renal failure')\n",
        "finalised_data.show()"
      ],
      "metadata": {
        "colab": {
          "base_uri": "https://localhost:8080/"
        },
        "id": "bB4Dogp4HVdD",
        "outputId": "7200642c-dd1f-4585-cf10-292c3892c0d4"
      },
      "execution_count": 14,
      "outputs": [
        {
          "output_type": "stream",
          "name": "stdout",
          "text": [
            "+--------------------+-------------+\n",
            "|            features|Renal failure|\n",
            "+--------------------+-------------+\n",
            "|[155.866668701171...|            1|\n",
            "|[140.0,4.44999980...|            0|\n",
            "|[135.333328247070...|            1|\n",
            "|[126.400001525878...|            0|\n",
            "|[156.559997558593...|            1|\n",
            "|[118.099998474121...|            1|\n",
            "|[106.565216064453...|            1|\n",
            "|[141.130432128906...|            0|\n",
            "|[98.4347839355468...|            1|\n",
            "|[122.0,3.86999988...|            0|\n",
            "|[149.035720825195...|            0|\n",
            "|[103.260871887207...|            0|\n",
            "|[126.903228759765...|            0|\n",
            "|[112.142860412597...|            1|\n",
            "|[107.360000610351...|            0|\n",
            "|[159.695648193359...|            1|\n",
            "|[157.289474487304...|            1|\n",
            "|[113.279998779296...|            1|\n",
            "|[162.240005493164...|            0|\n",
            "|[112.416664123535...|            1|\n",
            "+--------------------+-------------+\n",
            "only showing top 20 rows\n",
            "\n"
          ]
        }
      ]
    },
    {
      "cell_type": "code",
      "source": [
        "train, test = finalised_data.randomSplit([0.7, 0.3])"
      ],
      "metadata": {
        "id": "HRMOpslEHiU1"
      },
      "execution_count": 15,
      "outputs": []
    },
    {
      "cell_type": "code",
      "source": [
        "lr = LogisticRegression(labelCol=\"Renal failure\")\n",
        "lrn = lr.fit(train)"
      ],
      "metadata": {
        "id": "rKq31v24Hl9z"
      },
      "execution_count": 16,
      "outputs": []
    },
    {
      "cell_type": "code",
      "source": [
        "lrn_summary = lrn.summary\n",
        "lrn_summary.predictions.show()"
      ],
      "metadata": {
        "colab": {
          "base_uri": "https://localhost:8080/"
        },
        "id": "dd8-s1pjLVcO",
        "outputId": "552be37c-17f8-4b7d-82ae-c4de0df64358"
      },
      "execution_count": 17,
      "outputs": [
        {
          "output_type": "stream",
          "name": "stdout",
          "text": [
            "+--------------------+-------------+--------------------+--------------------+----------+\n",
            "|            features|Renal failure|       rawPrediction|         probability|prediction|\n",
            "+--------------------+-------------+--------------------+--------------------+----------+\n",
            "|[75.0,4.699999809...|          1.0|[-1.4496643881635...|[0.19005322237660...|       1.0|\n",
            "|[76.9761886596679...|          1.0|[1.30642325875405...|[0.78691402215540...|       0.0|\n",
            "|[80.5999984741211...|          0.0|[0.89290409436611...|[0.70948911193780...|       0.0|\n",
            "|[82.4545440673828...|          0.0|[1.27533969146930...|[0.78165544466374...|       0.0|\n",
            "|[85.0588226318359...|          0.0|[1.49387765970992...|[0.81665957487705...|       0.0|\n",
            "|[85.28125,4.01999...|          0.0|[0.91138218755210...|[0.71328291778758...|       0.0|\n",
            "|[85.8857116699218...|          1.0|[0.77781212583374...|[0.68520838551440...|       0.0|\n",
            "|[85.9523773193359...|          0.0|[1.08327002294885...|[0.74711230587813...|       0.0|\n",
            "|[86.2608718872070...|          1.0|[-3.7914587358101...|[0.02206482364531...|       1.0|\n",
            "|[86.6363601684570...|          0.0|[2.52822478189171...|[0.92609694686493...|       0.0|\n",
            "|[87.6938781738281...|          1.0|[-0.5600201503480...|[0.36354279732953...|       1.0|\n",
            "|[88.1923065185546...|          1.0|[0.67047427790674...|[0.66160934982482...|       0.0|\n",
            "|[88.5151519775390...|          0.0|[0.20642388964287...|[0.55142350214911...|       0.0|\n",
            "|[88.7666702270507...|          0.0|[1.60006861149966...|[0.83202797431883...|       0.0|\n",
            "|[88.9545440673828...|          0.0|[2.24888143886361...|[0.90455400663526...|       0.0|\n",
            "|[89.2173919677734...|          0.0|[1.28789975277446...|[0.78379148840061...|       0.0|\n",
            "|[89.8214263916015...|          1.0|[-0.4509563732182...|[0.38913340382419...|       1.0|\n",
            "|[89.8695678710937...|          0.0|[3.49509703251620...|[0.97054794259053...|       0.0|\n",
            "|[90.1600036621093...|          0.0|[1.42784704800226...|[0.80656563924270...|       0.0|\n",
            "|[90.1999969482421...|          1.0|[-2.3167788138791...|[0.08974284752267...|       1.0|\n",
            "+--------------------+-------------+--------------------+--------------------+----------+\n",
            "only showing top 20 rows\n",
            "\n"
          ]
        }
      ]
    },
    {
      "cell_type": "code",
      "source": [
        "df=lrn_summary.predictions.toPandas()"
      ],
      "metadata": {
        "id": "YrnuvEk6VddV"
      },
      "execution_count": 74,
      "outputs": []
    },
    {
      "cell_type": "code",
      "source": [
        "df.columns"
      ],
      "metadata": {
        "id": "J92HnVa0WPaX",
        "outputId": "067be175-fcca-4a7e-81bf-7dc92a21d5cb",
        "colab": {
          "base_uri": "https://localhost:8080/"
        }
      },
      "execution_count": 76,
      "outputs": [
        {
          "output_type": "execute_result",
          "data": {
            "text/plain": [
              "Index(['features', 'Renal failure', 'rawPrediction', 'probability',\n",
              "       'prediction'],\n",
              "      dtype='object')"
            ]
          },
          "metadata": {},
          "execution_count": 76
        }
      ]
    },
    {
      "cell_type": "code",
      "source": [
        "df.head()"
      ],
      "metadata": {
        "id": "bctspsLwWWu8",
        "outputId": "19037604-2cff-4cfd-b627-1e25d94088bc",
        "colab": {
          "base_uri": "https://localhost:8080/",
          "height": 354
        }
      },
      "execution_count": 77,
      "outputs": [
        {
          "output_type": "execute_result",
          "data": {
            "text/plain": [
              "                                            features  Renal failure  \\\n",
              "0  [75.0, 4.699999809265137, 85.82142639160156, 2...            1.0   \n",
              "1  [76.97618865966797, 4.666666507720947, 112.605...            1.0   \n",
              "2  [80.5999984741211, 4.144444465637207, 107.2592...            0.0   \n",
              "3  [82.45454406738281, 4.375, 90.13043212890625, ...            0.0   \n",
              "4  [85.05882263183594, 3.950000047683716, 69.6111...            0.0   \n",
              "\n",
              "                               rawPrediction  \\\n",
              "0  [-1.4496643881635145, 1.4496643881635145]   \n",
              "1    [1.306423258754056, -1.306423258754056]   \n",
              "2    [0.892904094366113, -0.892904094366113]   \n",
              "3  [1.2753396914693051, -1.2753396914693051]   \n",
              "4  [1.4938776597099221, -1.4938776597099221]   \n",
              "\n",
              "                                 probability  prediction  \n",
              "0  [0.19005322237660144, 0.8099467776233986]         1.0  \n",
              "1   [0.7869140221554044, 0.2130859778445956]         0.0  \n",
              "2   [0.709489111937801, 0.29051088806219905]         0.0  \n",
              "3  [0.7816554446637408, 0.21834455533625918]         0.0  \n",
              "4   [0.8166595748770592, 0.1833404251229408]         0.0  "
            ],
            "text/html": [
              "\n",
              "  <div id=\"df-f6e9f751-01bf-4302-a27e-f5016e2f9f2e\">\n",
              "    <div class=\"colab-df-container\">\n",
              "      <div>\n",
              "<style scoped>\n",
              "    .dataframe tbody tr th:only-of-type {\n",
              "        vertical-align: middle;\n",
              "    }\n",
              "\n",
              "    .dataframe tbody tr th {\n",
              "        vertical-align: top;\n",
              "    }\n",
              "\n",
              "    .dataframe thead th {\n",
              "        text-align: right;\n",
              "    }\n",
              "</style>\n",
              "<table border=\"1\" class=\"dataframe\">\n",
              "  <thead>\n",
              "    <tr style=\"text-align: right;\">\n",
              "      <th></th>\n",
              "      <th>features</th>\n",
              "      <th>Renal failure</th>\n",
              "      <th>rawPrediction</th>\n",
              "      <th>probability</th>\n",
              "      <th>prediction</th>\n",
              "    </tr>\n",
              "  </thead>\n",
              "  <tbody>\n",
              "    <tr>\n",
              "      <th>0</th>\n",
              "      <td>[75.0, 4.699999809265137, 85.82142639160156, 2...</td>\n",
              "      <td>1.0</td>\n",
              "      <td>[-1.4496643881635145, 1.4496643881635145]</td>\n",
              "      <td>[0.19005322237660144, 0.8099467776233986]</td>\n",
              "      <td>1.0</td>\n",
              "    </tr>\n",
              "    <tr>\n",
              "      <th>1</th>\n",
              "      <td>[76.97618865966797, 4.666666507720947, 112.605...</td>\n",
              "      <td>1.0</td>\n",
              "      <td>[1.306423258754056, -1.306423258754056]</td>\n",
              "      <td>[0.7869140221554044, 0.2130859778445956]</td>\n",
              "      <td>0.0</td>\n",
              "    </tr>\n",
              "    <tr>\n",
              "      <th>2</th>\n",
              "      <td>[80.5999984741211, 4.144444465637207, 107.2592...</td>\n",
              "      <td>0.0</td>\n",
              "      <td>[0.892904094366113, -0.892904094366113]</td>\n",
              "      <td>[0.709489111937801, 0.29051088806219905]</td>\n",
              "      <td>0.0</td>\n",
              "    </tr>\n",
              "    <tr>\n",
              "      <th>3</th>\n",
              "      <td>[82.45454406738281, 4.375, 90.13043212890625, ...</td>\n",
              "      <td>0.0</td>\n",
              "      <td>[1.2753396914693051, -1.2753396914693051]</td>\n",
              "      <td>[0.7816554446637408, 0.21834455533625918]</td>\n",
              "      <td>0.0</td>\n",
              "    </tr>\n",
              "    <tr>\n",
              "      <th>4</th>\n",
              "      <td>[85.05882263183594, 3.950000047683716, 69.6111...</td>\n",
              "      <td>0.0</td>\n",
              "      <td>[1.4938776597099221, -1.4938776597099221]</td>\n",
              "      <td>[0.8166595748770592, 0.1833404251229408]</td>\n",
              "      <td>0.0</td>\n",
              "    </tr>\n",
              "  </tbody>\n",
              "</table>\n",
              "</div>\n",
              "      <button class=\"colab-df-convert\" onclick=\"convertToInteractive('df-f6e9f751-01bf-4302-a27e-f5016e2f9f2e')\"\n",
              "              title=\"Convert this dataframe to an interactive table.\"\n",
              "              style=\"display:none;\">\n",
              "        \n",
              "  <svg xmlns=\"http://www.w3.org/2000/svg\" height=\"24px\"viewBox=\"0 0 24 24\"\n",
              "       width=\"24px\">\n",
              "    <path d=\"M0 0h24v24H0V0z\" fill=\"none\"/>\n",
              "    <path d=\"M18.56 5.44l.94 2.06.94-2.06 2.06-.94-2.06-.94-.94-2.06-.94 2.06-2.06.94zm-11 1L8.5 8.5l.94-2.06 2.06-.94-2.06-.94L8.5 2.5l-.94 2.06-2.06.94zm10 10l.94 2.06.94-2.06 2.06-.94-2.06-.94-.94-2.06-.94 2.06-2.06.94z\"/><path d=\"M17.41 7.96l-1.37-1.37c-.4-.4-.92-.59-1.43-.59-.52 0-1.04.2-1.43.59L10.3 9.45l-7.72 7.72c-.78.78-.78 2.05 0 2.83L4 21.41c.39.39.9.59 1.41.59.51 0 1.02-.2 1.41-.59l7.78-7.78 2.81-2.81c.8-.78.8-2.07 0-2.86zM5.41 20L4 18.59l7.72-7.72 1.47 1.35L5.41 20z\"/>\n",
              "  </svg>\n",
              "      </button>\n",
              "      \n",
              "  <style>\n",
              "    .colab-df-container {\n",
              "      display:flex;\n",
              "      flex-wrap:wrap;\n",
              "      gap: 12px;\n",
              "    }\n",
              "\n",
              "    .colab-df-convert {\n",
              "      background-color: #E8F0FE;\n",
              "      border: none;\n",
              "      border-radius: 50%;\n",
              "      cursor: pointer;\n",
              "      display: none;\n",
              "      fill: #1967D2;\n",
              "      height: 32px;\n",
              "      padding: 0 0 0 0;\n",
              "      width: 32px;\n",
              "    }\n",
              "\n",
              "    .colab-df-convert:hover {\n",
              "      background-color: #E2EBFA;\n",
              "      box-shadow: 0px 1px 2px rgba(60, 64, 67, 0.3), 0px 1px 3px 1px rgba(60, 64, 67, 0.15);\n",
              "      fill: #174EA6;\n",
              "    }\n",
              "\n",
              "    [theme=dark] .colab-df-convert {\n",
              "      background-color: #3B4455;\n",
              "      fill: #D2E3FC;\n",
              "    }\n",
              "\n",
              "    [theme=dark] .colab-df-convert:hover {\n",
              "      background-color: #434B5C;\n",
              "      box-shadow: 0px 1px 3px 1px rgba(0, 0, 0, 0.15);\n",
              "      filter: drop-shadow(0px 1px 2px rgba(0, 0, 0, 0.3));\n",
              "      fill: #FFFFFF;\n",
              "    }\n",
              "  </style>\n",
              "\n",
              "      <script>\n",
              "        const buttonEl =\n",
              "          document.querySelector('#df-f6e9f751-01bf-4302-a27e-f5016e2f9f2e button.colab-df-convert');\n",
              "        buttonEl.style.display =\n",
              "          google.colab.kernel.accessAllowed ? 'block' : 'none';\n",
              "\n",
              "        async function convertToInteractive(key) {\n",
              "          const element = document.querySelector('#df-f6e9f751-01bf-4302-a27e-f5016e2f9f2e');\n",
              "          const dataTable =\n",
              "            await google.colab.kernel.invokeFunction('convertToInteractive',\n",
              "                                                     [key], {});\n",
              "          if (!dataTable) return;\n",
              "\n",
              "          const docLinkHtml = 'Like what you see? Visit the ' +\n",
              "            '<a target=\"_blank\" href=https://colab.research.google.com/notebooks/data_table.ipynb>data table notebook</a>'\n",
              "            + ' to learn more about interactive tables.';\n",
              "          element.innerHTML = '';\n",
              "          dataTable['output_type'] = 'display_data';\n",
              "          await google.colab.output.renderOutput(dataTable, element);\n",
              "          const docLink = document.createElement('div');\n",
              "          docLink.innerHTML = docLinkHtml;\n",
              "          element.appendChild(docLink);\n",
              "        }\n",
              "      </script>\n",
              "    </div>\n",
              "  </div>\n",
              "  "
            ]
          },
          "metadata": {},
          "execution_count": 77
        }
      ]
    },
    {
      "cell_type": "code",
      "source": [
        "test.toPandas()"
      ],
      "metadata": {
        "id": "3qNnjG1RVqfg",
        "outputId": "9ed8ca4a-c145-46f8-85b9-45b2065a7d5d",
        "colab": {
          "base_uri": "https://localhost:8080/",
          "height": 424
        }
      },
      "execution_count": 67,
      "outputs": [
        {
          "output_type": "execute_result",
          "data": {
            "text/plain": [
              "                                              features  Renal failure\n",
              "0    [79.23076629638672, 4.1875, 129.1750030517578,...              1\n",
              "1    [85.35713958740234, 3.808333396911621, 100.696...              0\n",
              "2    [85.59091186523438, 3.5928571224212646, 68.391...              1\n",
              "3    [85.59459686279297, 5.016666889190674, 72.5405...              0\n",
              "4    [88.0625, 4.025000095367432, 80.78947448730469...              0\n",
              "..                                                 ...            ...\n",
              "359  [163.7948760986328, 4.191666603088379, 74.1944...              0\n",
              "360  [165.36363220214844, 3.633333444595337, 91.434...              0\n",
              "361  [172.4499969482422, 3.9000000953674316, 94.714...              0\n",
              "362  [173.56521606445312, 4.170000076293945, 60.541...              0\n",
              "363  [180.69564819335938, 4.2272725105285645, 86.13...              1\n",
              "\n",
              "[364 rows x 2 columns]"
            ],
            "text/html": [
              "\n",
              "  <div id=\"df-15011f19-93c3-4e24-b960-9bdc5455efd0\">\n",
              "    <div class=\"colab-df-container\">\n",
              "      <div>\n",
              "<style scoped>\n",
              "    .dataframe tbody tr th:only-of-type {\n",
              "        vertical-align: middle;\n",
              "    }\n",
              "\n",
              "    .dataframe tbody tr th {\n",
              "        vertical-align: top;\n",
              "    }\n",
              "\n",
              "    .dataframe thead th {\n",
              "        text-align: right;\n",
              "    }\n",
              "</style>\n",
              "<table border=\"1\" class=\"dataframe\">\n",
              "  <thead>\n",
              "    <tr style=\"text-align: right;\">\n",
              "      <th></th>\n",
              "      <th>features</th>\n",
              "      <th>Renal failure</th>\n",
              "    </tr>\n",
              "  </thead>\n",
              "  <tbody>\n",
              "    <tr>\n",
              "      <th>0</th>\n",
              "      <td>[79.23076629638672, 4.1875, 129.1750030517578,...</td>\n",
              "      <td>1</td>\n",
              "    </tr>\n",
              "    <tr>\n",
              "      <th>1</th>\n",
              "      <td>[85.35713958740234, 3.808333396911621, 100.696...</td>\n",
              "      <td>0</td>\n",
              "    </tr>\n",
              "    <tr>\n",
              "      <th>2</th>\n",
              "      <td>[85.59091186523438, 3.5928571224212646, 68.391...</td>\n",
              "      <td>1</td>\n",
              "    </tr>\n",
              "    <tr>\n",
              "      <th>3</th>\n",
              "      <td>[85.59459686279297, 5.016666889190674, 72.5405...</td>\n",
              "      <td>0</td>\n",
              "    </tr>\n",
              "    <tr>\n",
              "      <th>4</th>\n",
              "      <td>[88.0625, 4.025000095367432, 80.78947448730469...</td>\n",
              "      <td>0</td>\n",
              "    </tr>\n",
              "    <tr>\n",
              "      <th>...</th>\n",
              "      <td>...</td>\n",
              "      <td>...</td>\n",
              "    </tr>\n",
              "    <tr>\n",
              "      <th>359</th>\n",
              "      <td>[163.7948760986328, 4.191666603088379, 74.1944...</td>\n",
              "      <td>0</td>\n",
              "    </tr>\n",
              "    <tr>\n",
              "      <th>360</th>\n",
              "      <td>[165.36363220214844, 3.633333444595337, 91.434...</td>\n",
              "      <td>0</td>\n",
              "    </tr>\n",
              "    <tr>\n",
              "      <th>361</th>\n",
              "      <td>[172.4499969482422, 3.9000000953674316, 94.714...</td>\n",
              "      <td>0</td>\n",
              "    </tr>\n",
              "    <tr>\n",
              "      <th>362</th>\n",
              "      <td>[173.56521606445312, 4.170000076293945, 60.541...</td>\n",
              "      <td>0</td>\n",
              "    </tr>\n",
              "    <tr>\n",
              "      <th>363</th>\n",
              "      <td>[180.69564819335938, 4.2272725105285645, 86.13...</td>\n",
              "      <td>1</td>\n",
              "    </tr>\n",
              "  </tbody>\n",
              "</table>\n",
              "<p>364 rows × 2 columns</p>\n",
              "</div>\n",
              "      <button class=\"colab-df-convert\" onclick=\"convertToInteractive('df-15011f19-93c3-4e24-b960-9bdc5455efd0')\"\n",
              "              title=\"Convert this dataframe to an interactive table.\"\n",
              "              style=\"display:none;\">\n",
              "        \n",
              "  <svg xmlns=\"http://www.w3.org/2000/svg\" height=\"24px\"viewBox=\"0 0 24 24\"\n",
              "       width=\"24px\">\n",
              "    <path d=\"M0 0h24v24H0V0z\" fill=\"none\"/>\n",
              "    <path d=\"M18.56 5.44l.94 2.06.94-2.06 2.06-.94-2.06-.94-.94-2.06-.94 2.06-2.06.94zm-11 1L8.5 8.5l.94-2.06 2.06-.94-2.06-.94L8.5 2.5l-.94 2.06-2.06.94zm10 10l.94 2.06.94-2.06 2.06-.94-2.06-.94-.94-2.06-.94 2.06-2.06.94z\"/><path d=\"M17.41 7.96l-1.37-1.37c-.4-.4-.92-.59-1.43-.59-.52 0-1.04.2-1.43.59L10.3 9.45l-7.72 7.72c-.78.78-.78 2.05 0 2.83L4 21.41c.39.39.9.59 1.41.59.51 0 1.02-.2 1.41-.59l7.78-7.78 2.81-2.81c.8-.78.8-2.07 0-2.86zM5.41 20L4 18.59l7.72-7.72 1.47 1.35L5.41 20z\"/>\n",
              "  </svg>\n",
              "      </button>\n",
              "      \n",
              "  <style>\n",
              "    .colab-df-container {\n",
              "      display:flex;\n",
              "      flex-wrap:wrap;\n",
              "      gap: 12px;\n",
              "    }\n",
              "\n",
              "    .colab-df-convert {\n",
              "      background-color: #E8F0FE;\n",
              "      border: none;\n",
              "      border-radius: 50%;\n",
              "      cursor: pointer;\n",
              "      display: none;\n",
              "      fill: #1967D2;\n",
              "      height: 32px;\n",
              "      padding: 0 0 0 0;\n",
              "      width: 32px;\n",
              "    }\n",
              "\n",
              "    .colab-df-convert:hover {\n",
              "      background-color: #E2EBFA;\n",
              "      box-shadow: 0px 1px 2px rgba(60, 64, 67, 0.3), 0px 1px 3px 1px rgba(60, 64, 67, 0.15);\n",
              "      fill: #174EA6;\n",
              "    }\n",
              "\n",
              "    [theme=dark] .colab-df-convert {\n",
              "      background-color: #3B4455;\n",
              "      fill: #D2E3FC;\n",
              "    }\n",
              "\n",
              "    [theme=dark] .colab-df-convert:hover {\n",
              "      background-color: #434B5C;\n",
              "      box-shadow: 0px 1px 3px 1px rgba(0, 0, 0, 0.15);\n",
              "      filter: drop-shadow(0px 1px 2px rgba(0, 0, 0, 0.3));\n",
              "      fill: #FFFFFF;\n",
              "    }\n",
              "  </style>\n",
              "\n",
              "      <script>\n",
              "        const buttonEl =\n",
              "          document.querySelector('#df-15011f19-93c3-4e24-b960-9bdc5455efd0 button.colab-df-convert');\n",
              "        buttonEl.style.display =\n",
              "          google.colab.kernel.accessAllowed ? 'block' : 'none';\n",
              "\n",
              "        async function convertToInteractive(key) {\n",
              "          const element = document.querySelector('#df-15011f19-93c3-4e24-b960-9bdc5455efd0');\n",
              "          const dataTable =\n",
              "            await google.colab.kernel.invokeFunction('convertToInteractive',\n",
              "                                                     [key], {});\n",
              "          if (!dataTable) return;\n",
              "\n",
              "          const docLinkHtml = 'Like what you see? Visit the ' +\n",
              "            '<a target=\"_blank\" href=https://colab.research.google.com/notebooks/data_table.ipynb>data table notebook</a>'\n",
              "            + ' to learn more about interactive tables.';\n",
              "          element.innerHTML = '';\n",
              "          dataTable['output_type'] = 'display_data';\n",
              "          await google.colab.output.renderOutput(dataTable, element);\n",
              "          const docLink = document.createElement('div');\n",
              "          docLink.innerHTML = docLinkHtml;\n",
              "          element.appendChild(docLink);\n",
              "        }\n",
              "      </script>\n",
              "    </div>\n",
              "  </div>\n",
              "  "
            ]
          },
          "metadata": {},
          "execution_count": 67
        }
      ]
    },
    {
      "cell_type": "code",
      "source": [
        "lrn_summary.predictions.describe().show()"
      ],
      "metadata": {
        "colab": {
          "base_uri": "https://localhost:8080/"
        },
        "id": "_JYkvSuMLcc1",
        "outputId": "dd30dc63-927b-4521-da49-53c0cfb4e78e"
      },
      "execution_count": 18,
      "outputs": [
        {
          "output_type": "stream",
          "name": "stdout",
          "text": [
            "+-------+-------------------+------------------+\n",
            "|summary|      Renal failure|        prediction|\n",
            "+-------+-------------------+------------------+\n",
            "|  count|                813|               813|\n",
            "|   mean|0.36039360393603936|0.2767527675276753|\n",
            "| stddev| 0.4804101722019415|0.4476686011834623|\n",
            "|    min|                0.0|               0.0|\n",
            "|    max|                1.0|               1.0|\n",
            "+-------+-------------------+------------------+\n",
            "\n"
          ]
        }
      ]
    },
    {
      "cell_type": "code",
      "source": [
        "from pyspark.ml.evaluation import BinaryClassificationEvaluator"
      ],
      "metadata": {
        "id": "Mhbg2X6nMWvz"
      },
      "execution_count": 19,
      "outputs": []
    },
    {
      "cell_type": "code",
      "source": [
        "lrn_summary.predictions.show()\n",
        "eval = BinaryClassificationEvaluator(rawPredictionCol = \"prediction\", labelCol = \"Renal failure\")\n",
        "auc = eval.evaluate(lrn_summary.predictions)\n",
        "\n",
        "print(auc)"
      ],
      "metadata": {
        "colab": {
          "base_uri": "https://localhost:8080/"
        },
        "id": "qubTQKnDLllx",
        "outputId": "ada95ea2-660e-43a1-a9a1-9ed2ca8935f5"
      },
      "execution_count": 20,
      "outputs": [
        {
          "output_type": "stream",
          "name": "stdout",
          "text": [
            "+--------------------+-------------+--------------------+--------------------+----------+\n",
            "|            features|Renal failure|       rawPrediction|         probability|prediction|\n",
            "+--------------------+-------------+--------------------+--------------------+----------+\n",
            "|[75.0,4.699999809...|          1.0|[-1.4496643881635...|[0.19005322237660...|       1.0|\n",
            "|[76.9761886596679...|          1.0|[1.30642325875405...|[0.78691402215540...|       0.0|\n",
            "|[80.5999984741211...|          0.0|[0.89290409436611...|[0.70948911193780...|       0.0|\n",
            "|[82.4545440673828...|          0.0|[1.27533969146930...|[0.78165544466374...|       0.0|\n",
            "|[85.0588226318359...|          0.0|[1.49387765970992...|[0.81665957487705...|       0.0|\n",
            "|[85.28125,4.01999...|          0.0|[0.91138218755210...|[0.71328291778758...|       0.0|\n",
            "|[85.8857116699218...|          1.0|[0.77781212583374...|[0.68520838551440...|       0.0|\n",
            "|[85.9523773193359...|          0.0|[1.08327002294885...|[0.74711230587813...|       0.0|\n",
            "|[86.2608718872070...|          1.0|[-3.7914587358101...|[0.02206482364531...|       1.0|\n",
            "|[86.6363601684570...|          0.0|[2.52822478189171...|[0.92609694686493...|       0.0|\n",
            "|[87.6938781738281...|          1.0|[-0.5600201503480...|[0.36354279732953...|       1.0|\n",
            "|[88.1923065185546...|          1.0|[0.67047427790674...|[0.66160934982482...|       0.0|\n",
            "|[88.5151519775390...|          0.0|[0.20642388964287...|[0.55142350214911...|       0.0|\n",
            "|[88.7666702270507...|          0.0|[1.60006861149966...|[0.83202797431883...|       0.0|\n",
            "|[88.9545440673828...|          0.0|[2.24888143886361...|[0.90455400663526...|       0.0|\n",
            "|[89.2173919677734...|          0.0|[1.28789975277446...|[0.78379148840061...|       0.0|\n",
            "|[89.8214263916015...|          1.0|[-0.4509563732182...|[0.38913340382419...|       1.0|\n",
            "|[89.8695678710937...|          0.0|[3.49509703251620...|[0.97054794259053...|       0.0|\n",
            "|[90.1600036621093...|          0.0|[1.42784704800226...|[0.80656563924270...|       0.0|\n",
            "|[90.1999969482421...|          1.0|[-2.3167788138791...|[0.08974284752267...|       1.0|\n",
            "+--------------------+-------------+--------------------+--------------------+----------+\n",
            "only showing top 20 rows\n",
            "\n",
            "0.745221843003413\n"
          ]
        }
      ]
    },
    {
      "cell_type": "code",
      "source": [
        "import numpy"
      ],
      "metadata": {
        "id": "IR7OHeA4ZrnK"
      },
      "execution_count": 21,
      "outputs": []
    },
    {
      "cell_type": "code",
      "source": [
        "from sklearn import metrics"
      ],
      "metadata": {
        "id": "KjgrRd9WKdT_"
      },
      "execution_count": 22,
      "outputs": []
    },
    {
      "cell_type": "code",
      "source": [
        "from pyspark import SparkContext, SQLContext\n",
        "from pyspark.ml import Pipeline\n",
        "from pyspark.ml.classification import DecisionTreeClassifier\n",
        "from pyspark.ml.evaluation import MulticlassClassificationEvaluator"
      ],
      "metadata": {
        "id": "lwRYqi0tNfZk"
      },
      "execution_count": 30,
      "outputs": []
    },
    {
      "cell_type": "code",
      "source": [
        "import matplotlib.pyplot as plt\n",
        "from sklearn import metrics"
      ],
      "metadata": {
        "id": "EFHgLCPCUjsP"
      },
      "execution_count": 72,
      "outputs": []
    },
    {
      "cell_type": "code",
      "source": [
        "confusion_matrix = metrics.confusion_matrix(df['Renal failure'], df['prediction'])\n"
      ],
      "metadata": {
        "id": "nRoZkgj1Uo4j"
      },
      "execution_count": 79,
      "outputs": []
    },
    {
      "cell_type": "code",
      "source": [
        "confusion_matrix"
      ],
      "metadata": {
        "id": "ZeJpq7xqXCyk",
        "outputId": "350322d7-395a-41be-e422-c7b458bda102",
        "colab": {
          "base_uri": "https://localhost:8080/"
        }
      },
      "execution_count": 83,
      "outputs": [
        {
          "output_type": "execute_result",
          "data": {
            "text/plain": [
              "array([[468,  52],\n",
              "       [120, 173]])"
            ]
          },
          "metadata": {},
          "execution_count": 83
        }
      ]
    },
    {
      "cell_type": "code",
      "source": [
        "cm_display = metrics.ConfusionMatrixDisplay(confusion_matrix = confusion_matrix, display_labels = [False, True])\n",
        "\n",
        "cm_display.plot()\n",
        "plt.show()"
      ],
      "metadata": {
        "id": "enMjHxaTXpJo",
        "outputId": "feb90b93-58cb-40f1-9f43-43f2e71a8f6a",
        "colab": {
          "base_uri": "https://localhost:8080/",
          "height": 279
        }
      },
      "execution_count": 84,
      "outputs": [
        {
          "output_type": "display_data",
          "data": {
            "text/plain": [
              "<Figure size 432x288 with 2 Axes>"
            ],
            "image/png": "[encoded data removed]"
          },
          "metadata": {
            "needs_background": "light"
          }
        }
      ]
    }
  ]
}