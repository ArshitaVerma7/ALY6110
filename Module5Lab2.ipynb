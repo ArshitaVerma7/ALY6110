{
  "nbformat": 4,
  "nbformat_minor": 0,
  "metadata": {
    "colab": {
      "provenance": []
    },
    "kernelspec": {
      "name": "python3",
      "display_name": "Python 3"
    },
    "language_info": {
      "name": "python"
    }
  },
  "cells": [
    {
      "cell_type": "code",
      "execution_count": 2,
      "metadata": {
        "id": "lqF7Yk8btN6f"
      },
      "outputs": [],
      "source": [
        "import pandas as pd"
      ]
    },
    {
      "cell_type": "code",
      "source": [
        "!apt-get install openjdk-8-jdk-headless -qq > /dev/null"
      ],
      "metadata": {
        "id": "3T2bAdRvtjY2"
      },
      "execution_count": 3,
      "outputs": []
    },
    {
      "cell_type": "code",
      "source": [
        "!wget -q https://archive.apache.org/dist/spark/spark-3.0.0/spark-3.0.0-bin-hadoop3.2.tgz"
      ],
      "metadata": {
        "id": "LF280VHdt1Rp"
      },
      "execution_count": 4,
      "outputs": []
    },
    {
      "cell_type": "code",
      "source": [
        "!tar xf spark-3.0.0-bin-hadoop3.2.tgz"
      ],
      "metadata": {
        "id": "5S_pdZy_t6LH"
      },
      "execution_count": 5,
      "outputs": []
    },
    {
      "cell_type": "code",
      "source": [
        "import os\n",
        "os.environ[\"JAVA_HOME\"] = \"/usr/lib/jvm/java-8-openjdk-amd64\"\n",
        "os.environ[\"SPARK_HOME\"] = \"/content/spark-3.0.0-bin-hadoop3.2\"\n",
        "     "
      ],
      "metadata": {
        "id": "_PC5Mo8it-4X"
      },
      "execution_count": 6,
      "outputs": []
    },
    {
      "cell_type": "code",
      "source": [
        "\n",
        "!pip install -q findspark\n",
        "import findspark\n",
        "findspark.init()\n",
        "from pyspark.sql import SparkSession\n",
        "spark = SparkSession.builder.master(\"local[*]\").getOrCreate()\n",
        "\n",
        "from google.colab import files\n",
        "files.upload()\n",
        "\n",
        "df = spark.read.csv('BostonHousing.csv',inferSchema=True, header=True)\n",
        "\n",
        "from pyspark.ml.feature import VectorAssembler\n",
        "\n",
        "df.columns"
      ],
      "metadata": {
        "colab": {
          "base_uri": "https://localhost:8080/",
          "height": 322
        },
        "id": "IOOrR8A7uD0g",
        "outputId": "d2260b80-aac3-46d2-b039-d993d14ec0b0"
      },
      "execution_count": 7,
      "outputs": [
        {
          "output_type": "display_data",
          "data": {
            "text/plain": [
              "<IPython.core.display.HTML object>"
            ],
            "text/html": [
              "\n",
              "     <input type=\"file\" id=\"files-baba49e5-d3c7-443d-bc8c-93e34912a4c0\" name=\"files[]\" multiple disabled\n",
              "        style=\"border:none\" />\n",
              "     <output id=\"result-baba49e5-d3c7-443d-bc8c-93e34912a4c0\">\n",
              "      Upload widget is only available when the cell has been executed in the\n",
              "      current browser session. Please rerun this cell to enable.\n",
              "      </output>\n",
              "      <script>// Copyright 2017 Google LLC\n",
              "//\n",
              "// Licensed under the Apache License, Version 2.0 (the \"License\");\n",
              "// you may not use this file except in compliance with the License.\n",
              "// You may obtain a copy of the License at\n",
              "//\n",
              "//      http://www.apache.org/licenses/LICENSE-2.0\n",
              "//\n",
              "// Unless required by applicable law or agreed to in writing, software\n",
              "// distributed under the License is distributed on an \"AS IS\" BASIS,\n",
              "// WITHOUT WARRANTIES OR CONDITIONS OF ANY KIND, either express or implied.\n",
              "// See the License for the specific language governing permissions and\n",
              "// limitations under the License.\n",
              "\n",
              "/**\n",
              " * @fileoverview Helpers for google.colab Python module.\n",
              " */\n",
              "(function(scope) {\n",
              "function span(text, styleAttributes = {}) {\n",
              "  const element = document.createElement('span');\n",
              "  element.textContent = text;\n",
              "  for (const key of Object.keys(styleAttributes)) {\n",
              "    element.style[key] = styleAttributes[key];\n",
              "  }\n",
              "  return element;\n",
              "}\n",
              "\n",
              "// Max number of bytes which will be uploaded at a time.\n",
              "const MAX_PAYLOAD_SIZE = 100 * 1024;\n",
              "\n",
              "function _uploadFiles(inputId, outputId) {\n",
              "  const steps = uploadFilesStep(inputId, outputId);\n",
              "  const outputElement = document.getElementById(outputId);\n",
              "  // Cache steps on the outputElement to make it available for the next call\n",
              "  // to uploadFilesContinue from Python.\n",
              "  outputElement.steps = steps;\n",
              "\n",
              "  return _uploadFilesContinue(outputId);\n",
              "}\n",
              "\n",
              "// This is roughly an async generator (not supported in the browser yet),\n",
              "// where there are multiple asynchronous steps and the Python side is going\n",
              "// to poll for completion of each step.\n",
              "// This uses a Promise to block the python side on completion of each step,\n",
              "// then passes the result of the previous step as the input to the next step.\n",
              "function _uploadFilesContinue(outputId) {\n",
              "  const outputElement = document.getElementById(outputId);\n",
              "  const steps = outputElement.steps;\n",
              "\n",
              "  const next = steps.next(outputElement.lastPromiseValue);\n",
              "  return Promise.resolve(next.value.promise).then((value) => {\n",
              "    // Cache the last promise value to make it available to the next\n",
              "    // step of the generator.\n",
              "    outputElement.lastPromiseValue = value;\n",
              "    return next.value.response;\n",
              "  });\n",
              "}\n",
              "\n",
              "/**\n",
              " * Generator function which is called between each async step of the upload\n",
              " * process.\n",
              " * @param {string} inputId Element ID of the input file picker element.\n",
              " * @param {string} outputId Element ID of the output display.\n",
              " * @return {!Iterable<!Object>} Iterable of next steps.\n",
              " */\n",
              "function* uploadFilesStep(inputId, outputId) {\n",
              "  const inputElement = document.getElementById(inputId);\n",
              "  inputElement.disabled = false;\n",
              "\n",
              "  const outputElement = document.getElementById(outputId);\n",
              "  outputElement.innerHTML = '';\n",
              "\n",
              "  const pickedPromise = new Promise((resolve) => {\n",
              "    inputElement.addEventListener('change', (e) => {\n",
              "      resolve(e.target.files);\n",
              "    });\n",
              "  });\n",
              "\n",
              "  const cancel = document.createElement('button');\n",
              "  inputElement.parentElement.appendChild(cancel);\n",
              "  cancel.textContent = 'Cancel upload';\n",
              "  const cancelPromise = new Promise((resolve) => {\n",
              "    cancel.onclick = () => {\n",
              "      resolve(null);\n",
              "    };\n",
              "  });\n",
              "\n",
              "  // Wait for the user to pick the files.\n",
              "  const files = yield {\n",
              "    promise: Promise.race([pickedPromise, cancelPromise]),\n",
              "    response: {\n",
              "      action: 'starting',\n",
              "    }\n",
              "  };\n",
              "\n",
              "  cancel.remove();\n",
              "\n",
              "  // Disable the input element since further picks are not allowed.\n",
              "  inputElement.disabled = true;\n",
              "\n",
              "  if (!files) {\n",
              "    return {\n",
              "      response: {\n",
              "        action: 'complete',\n",
              "      }\n",
              "    };\n",
              "  }\n",
              "\n",
              "  for (const file of files) {\n",
              "    const li = document.createElement('li');\n",
              "    li.append(span(file.name, {fontWeight: 'bold'}));\n",
              "    li.append(span(\n",
              "        `(${file.type || 'n/a'}) - ${file.size} bytes, ` +\n",
              "        `last modified: ${\n",
              "            file.lastModifiedDate ? file.lastModifiedDate.toLocaleDateString() :\n",
              "                                    'n/a'} - `));\n",
              "    const percent = span('0% done');\n",
              "    li.appendChild(percent);\n",
              "\n",
              "    outputElement.appendChild(li);\n",
              "\n",
              "    const fileDataPromise = new Promise((resolve) => {\n",
              "      const reader = new FileReader();\n",
              "      reader.onload = (e) => {\n",
              "        resolve(e.target.result);\n",
              "      };\n",
              "      reader.readAsArrayBuffer(file);\n",
              "    });\n",
              "    // Wait for the data to be ready.\n",
              "    let fileData = yield {\n",
              "      promise: fileDataPromise,\n",
              "      response: {\n",
              "        action: 'continue',\n",
              "      }\n",
              "    };\n",
              "\n",
              "    // Use a chunked sending to avoid message size limits. See b/62115660.\n",
              "    let position = 0;\n",
              "    do {\n",
              "      const length = Math.min(fileData.byteLength - position, MAX_PAYLOAD_SIZE);\n",
              "      const chunk = new Uint8Array(fileData, position, length);\n",
              "      position += length;\n",
              "\n",
              "      const base64 = btoa(String.fromCharCode.apply(null, chunk));\n",
              "      yield {\n",
              "        response: {\n",
              "          action: 'append',\n",
              "          file: file.name,\n",
              "          data: base64,\n",
              "        },\n",
              "      };\n",
              "\n",
              "      let percentDone = fileData.byteLength === 0 ?\n",
              "          100 :\n",
              "          Math.round((position / fileData.byteLength) * 100);\n",
              "      percent.textContent = `${percentDone}% done`;\n",
              "\n",
              "    } while (position < fileData.byteLength);\n",
              "  }\n",
              "\n",
              "  // All done.\n",
              "  yield {\n",
              "    response: {\n",
              "      action: 'complete',\n",
              "    }\n",
              "  };\n",
              "}\n",
              "\n",
              "scope.google = scope.google || {};\n",
              "scope.google.colab = scope.google.colab || {};\n",
              "scope.google.colab._files = {\n",
              "  _uploadFiles,\n",
              "  _uploadFilesContinue,\n",
              "};\n",
              "})(self);\n",
              "</script> "
            ]
          },
          "metadata": {}
        },
        {
          "output_type": "stream",
          "name": "stdout",
          "text": [
            "Saving BostonHousing.csv to BostonHousing (1).csv\n"
          ]
        },
        {
          "output_type": "execute_result",
          "data": {
            "text/plain": [
              "['crim',\n",
              " 'zn',\n",
              " 'indus',\n",
              " 'chas',\n",
              " 'nox',\n",
              " 'rm',\n",
              " 'age',\n",
              " 'dis',\n",
              " 'rad',\n",
              " 'tax',\n",
              " 'ptratio',\n",
              " 'b',\n",
              " 'lstat',\n",
              " 'medv']"
            ]
          },
          "metadata": {},
          "execution_count": 7
        }
      ]
    },
    {
      "cell_type": "code",
      "source": [
        "\n",
        "inputCols = [\n",
        " 'crim',\n",
        " 'zn',\n",
        " 'indus',\n",
        " 'chas',\n",
        " 'nox',\n",
        " 'rm',\n",
        " 'age',\n",
        " 'dis',\n",
        " 'rad',\n",
        " 'tax',\n",
        " 'ptratio',\n",
        " 'b',\n",
        " 'lstat'\n",
        "]\n",
        "\n",
        "only_features= ['crim','zn','indus','chas','nox','rm','age','dis','rad','tax','ptratio','b','lstat']\n",
        "assembler= VectorAssembler(inputCols=only_features,outputCol='features')"
      ],
      "metadata": {
        "id": "_47Xhtb_uO8E"
      },
      "execution_count": 8,
      "outputs": []
    },
    {
      "cell_type": "code",
      "source": [
        "\n",
        "from pyspark.ml.feature import VectorAssembler\n",
        "from pyspark.ml.regression import LinearRegression\n",
        "from pyspark.ml.feature import VectorAssembler,StandardScaler,PCA\n",
        "import numpy as np\n",
        "import pandas as pd\n",
        "import matplotlib.pyplot as plt\n",
        "\n",
        "feat_df=assembler.transform(df).select('features')"
      ],
      "metadata": {
        "id": "iflc1fbAuSKa"
      },
      "execution_count": 9,
      "outputs": []
    },
    {
      "cell_type": "code",
      "source": [
        "scaler= StandardScaler(inputCol='features',outputCol='scaledFeature',withMean=True,withStd=True).fit(feat_df)\n",
        "df_scaled=scaler.transform(feat_df)\n",
        "df_scaled.show(5)\n",
        "\n",
        "n_components=2\n",
        "pca=PCA(k=n_components,inputCol='scaledFeature',outputCol='pcafeatures').fit(df_scaled)\n",
        "\n",
        "df_pca=pca.transform(df_scaled)\n",
        "print('explained variance Ratio',pca.explainedVariance.toArray())\n",
        "df_pca.show(5)\n",
        "\n",
        "X_pca=df_pca.rdd.map(lambda row:row.pcafeatures).collect()\n",
        "X_pca=np.array(X_pca)\n",
        "\n",
        "X_pca"
      ],
      "metadata": {
        "colab": {
          "base_uri": "https://localhost:8080/"
        },
        "id": "kBxHfIOcuXm0",
        "outputId": "6affca66-a6c7-43a0-f74a-2955ca98375b"
      },
      "execution_count": 10,
      "outputs": [
        {
          "output_type": "stream",
          "name": "stdout",
          "text": [
            "+--------------------+--------------------+\n",
            "|            features|       scaledFeature|\n",
            "+--------------------+--------------------+\n",
            "|[0.00632,18.0,2.3...|[-0.4193669292132...|\n",
            "|[0.02731,0.0,7.07...|[-0.4169266699640...|\n",
            "|[0.02729,0.0,7.07...|[-0.4169289951277...|\n",
            "|[0.03237,0.0,2.18...|[-0.4163384035610...|\n",
            "|[0.06905,0.0,2.18...|[-0.4120740534296...|\n",
            "+--------------------+--------------------+\n",
            "only showing top 5 rows\n",
            "\n",
            "explained variance Ratio [0.47129606 0.11025193]\n",
            "+--------------------+--------------------+--------------------+\n",
            "|            features|       scaledFeature|         pcafeatures|\n",
            "+--------------------+--------------------+--------------------+\n",
            "|[0.00632,18.0,2.3...|[-0.4193669292132...|[2.09622303023858...|\n",
            "|[0.02731,0.0,7.07...|[-0.4169266699640...|[1.45581098944742...|\n",
            "|[0.02729,0.0,7.07...|[-0.4169289951277...|[2.07254655194818...|\n",
            "|[0.03237,0.0,2.18...|[-0.4163384035610...|[2.60892175886434...|\n",
            "|[0.06905,0.0,2.18...|[-0.4120740534296...|[2.45575477193107...|\n",
            "+--------------------+--------------------+--------------------+\n",
            "only showing top 5 rows\n",
            "\n"
          ]
        },
        {
          "output_type": "execute_result",
          "data": {
            "text/plain": [
              "array([[2.09622303, 0.77234843],\n",
              "       [1.45581099, 0.59139995],\n",
              "       [2.07254655, 0.59904658],\n",
              "       ...,\n",
              "       [0.31205166, 1.15410433],\n",
              "       [0.27025162, 1.04033206],\n",
              "       [0.12567884, 0.76122473]])"
            ]
          },
          "metadata": {},
          "execution_count": 10
        }
      ]
    },
    {
      "cell_type": "code",
      "source": [
        "df_pca=pd.DataFrame(X_pca, columns=['PC1','PC2'])\n",
        "df_pca.head()\n",
        "\n",
        "plt.rcParams['figure.figsize']=8,6\n",
        "plt.rcParams['font.size']=14\n",
        "ax1=df_pca.plot.scatter(x='PC1',y='PC2',c='green')\n",
        "\n",
        "output=assembler.transform(df)\n",
        "f_data=output.select('features','medv')\n",
        "f_data.show(5)"
      ],
      "metadata": {
        "colab": {
          "base_uri": "https://localhost:8080/",
          "height": 591
        },
        "id": "UOR8HFX-ukTx",
        "outputId": "4c5c5654-678b-406c-9762-ce121b2bfcd9"
      },
      "execution_count": 11,
      "outputs": [
        {
          "output_type": "stream",
          "name": "stdout",
          "text": [
            "+--------------------+----+\n",
            "|            features|medv|\n",
            "+--------------------+----+\n",
            "|[0.00632,18.0,2.3...|24.0|\n",
            "|[0.02731,0.0,7.07...|21.6|\n",
            "|[0.02729,0.0,7.07...|34.7|\n",
            "|[0.03237,0.0,2.18...|33.4|\n",
            "|[0.06905,0.0,2.18...|36.2|\n",
            "+--------------------+----+\n",
            "only showing top 5 rows\n",
            "\n"
          ]
        },
        {
          "output_type": "display_data",
          "data": {
            "text/plain": [
              "<Figure size 576x432 with 1 Axes>"
            ],
            "image/png": "[encoded data removed]"
          },
          "metadata": {
            "needs_background": "light"
          }
        }
      ]
    },
    {
      "cell_type": "code",
      "source": [
        "train_data,test_data= f_data.randomSplit([0.90,0.1])\n",
        "\n",
        "     \n",
        "\n",
        "regressor=LinearRegression(featuresCol='features',labelCol='medv')\n",
        "regressor=regressor.fit(train_data)\n",
        "     \n",
        "\n",
        "coeff=regressor.coefficients\n",
        "intr=regressor.intercept\n",
        "print(\"Coefficient:\", coeff)\n",
        "print(\"Intercept:\", intr)\n",
        "\n",
        "print(\"Coefficient: %a\" %coeff)\n",
        "print(\"Intercept: %f\" %intr)"
      ],
      "metadata": {
        "colab": {
          "base_uri": "https://localhost:8080/"
        },
        "id": "WDxjN5jxu60S",
        "outputId": "2b5426bc-660a-4e7e-9bf3-d6627f5a5342"
      },
      "execution_count": 12,
      "outputs": [
        {
          "output_type": "stream",
          "name": "stdout",
          "text": [
            "Coefficient: [-0.10351796515117316,0.04036149170123111,0.017619760679349932,2.085145424394282,-17.30919539218479,3.655937928840547,0.0008468776657597206,-1.3830122596905052,0.2894914767797134,-0.011692277109099763,-0.9755798770255252,0.00957372804156805,-0.523112140153559]\n",
            "Intercept: 37.05651306576981\n",
            "Coefficient: DenseVector([-0.1035, 0.0404, 0.0176, 2.0851, -17.3092, 3.6559, 0.0008, -1.383, 0.2895, -0.0117, -0.9756, 0.0096, -0.5231])\n",
            "Intercept: 37.056513\n"
          ]
        }
      ]
    },
    {
      "cell_type": "code",
      "source": [
        "\n",
        "pred = regressor.evaluate(test_data)\n",
        "pred.predictions.show(5)"
      ],
      "metadata": {
        "colab": {
          "base_uri": "https://localhost:8080/"
        },
        "id": "JWFF_188u_mV",
        "outputId": "377a5bcf-b643-42a9-9602-39121ad8142b"
      },
      "execution_count": 13,
      "outputs": [
        {
          "output_type": "stream",
          "name": "stdout",
          "text": [
            "+--------------------+----+------------------+\n",
            "|            features|medv|        prediction|\n",
            "+--------------------+----+------------------+\n",
            "|[0.01538,90.0,3.7...|44.0|37.026800996439526|\n",
            "|[0.01965,80.0,1.7...|20.1|20.105708197462935|\n",
            "|[0.02763,75.0,2.9...|30.8|30.980710895037674|\n",
            "|[0.02985,0.0,2.18...|28.7| 25.41474698118386|\n",
            "|[0.0351,95.0,2.68...|48.5|41.357209489921885|\n",
            "+--------------------+----+------------------+\n",
            "only showing top 5 rows\n",
            "\n"
          ]
        }
      ]
    },
    {
      "cell_type": "code",
      "source": [
        "from pyspark.ml.evaluation import RegressionEvaluator\n",
        "eval=RegressionEvaluator(labelCol='medv',predictionCol='prediction',metricName='rmse')\n",
        "     \n",
        "\n",
        "rmse=eval.evaluate(pred.predictions)\n",
        "print(\"Root Mean Square Error (RMSE) : %.3f\" %rmse)\n",
        "\n",
        "mse=eval.evaluate(pred.predictions,{eval.metricName:\"mse\"})\n",
        "print(\"Mean Squared Error (MSE) : %.3f\" %mse)\n",
        "\n",
        "mae=eval.evaluate(pred.predictions,{eval.metricName:\"mae\"})\n",
        "print(\"Mean Absolute Error (MAER) : %.3f\" % mae)\n",
        "\n",
        "r2=eval.evaluate(pred.predictions,{eval.metricName:\"r2\"})\n",
        "print(\"r2 : %.3f\" %r2)"
      ],
      "metadata": {
        "colab": {
          "base_uri": "https://localhost:8080/"
        },
        "id": "KvX_uTOTvEsQ",
        "outputId": "f84d5343-ec00-475e-f58f-bad809fbbe70"
      },
      "execution_count": 14,
      "outputs": [
        {
          "output_type": "stream",
          "name": "stdout",
          "text": [
            "Root Mean Square Error (RMSE) : 4.812\n",
            "Mean Squared Error (MSE) : 23.154\n",
            "Mean Absolute Error (MAER) : 2.882\n",
            "r2 : 0.803\n"
          ]
        }
      ]
    }
  ]
}